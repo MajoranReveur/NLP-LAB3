{
 "cells": [
  {
   "attachments": {},
   "cell_type": "markdown",
   "metadata": {},
   "source": [
    "# FEATURES"
   ]
  },
  {
   "cell_type": "code",
   "execution_count": 65,
   "metadata": {},
   "outputs": [
    {
     "name": "stderr",
     "output_type": "stream",
     "text": [
      "Found cached dataset imdb (/home/amine/.cache/huggingface/datasets/imdb/plain_text/1.0.0/d613c88cf8fa3bab83b4ded3713f1f74830d1100e171db75bbddb80b3345c9c0)\n",
      "100%|██████████| 3/3 [00:00<00:00, 956.15it/s]\n"
     ]
    }
   ],
   "source": [
    "from datasets import get_dataset_split_names\n",
    "from datasets import load_dataset\n",
    "from datasets import dataset_dict\n",
    "from datasets import arrow_dataset\n",
    "import string\n",
    "\n",
    "dataset = load_dataset(\"imdb\")"
   ]
  },
  {
   "cell_type": "code",
   "execution_count": 66,
   "metadata": {},
   "outputs": [
    {
     "data": {
      "text/plain": [
       "{'text': 'I rented I AM CURIOUS-YELLOW from my video store because of all the controversy that surrounded it when it was first released in 1967. I also heard that at first it was seized by U.S. customs if it ever tried to enter this country, therefore being a fan of films considered \"controversial\" I really had to see this for myself.<br /><br />The plot is centered around a young Swedish drama student named Lena who wants to learn everything she can about life. In particular she wants to focus her attentions to making some sort of documentary on what the average Swede thought about certain political issues such as the Vietnam War and race issues in the United States. In between asking politicians and ordinary denizens of Stockholm about their opinions on politics, she has sex with her drama teacher, classmates, and married men.<br /><br />What kills me about I AM CURIOUS-YELLOW is that 40 years ago, this was considered pornographic. Really, the sex and nudity scenes are few and far between, even then it\\'s not shot like some cheaply made porno. While my countrymen mind find it shocking, in reality sex and nudity are a major staple in Swedish cinema. Even Ingmar Bergman, arguably their answer to good old boy John Ford, had sex scenes in his films.<br /><br />I do commend the filmmakers for the fact that any sex shown in the film is shown for artistic purposes rather than just to shock people and make money to be shown in pornographic theaters in America. I AM CURIOUS-YELLOW is a good film for anyone wanting to study the meat and potatoes (no pun intended) of Swedish cinema. But really, this film doesn\\'t have much of a plot.',\n",
       " 'label': 0}"
      ]
     },
     "execution_count": 66,
     "metadata": {},
     "output_type": "execute_result"
    }
   ],
   "source": [
    "document = dataset[\"train\"][0]\n",
    "document"
   ]
  },
  {
   "cell_type": "code",
   "execution_count": null,
   "metadata": {},
   "outputs": [],
   "source": []
  },
  {
   "attachments": {},
   "cell_type": "markdown",
   "metadata": {},
   "source": [
    "1- Preprocess function"
   ]
  },
  {
   "cell_type": "code",
   "execution_count": 67,
   "metadata": {},
   "outputs": [],
   "source": [
    "def preprocess(data : dict) -> dict:\n",
    "    '''Takes a document from a dataset, lowers the letters and\n",
    "    replace all punctuations by spaces'''\n",
    "    text = data[\"text\"]\n",
    "    for character in string.punctuation:\n",
    "        if character != \"-\" and character != \"!\":\n",
    "          text = text.replace(character, ' ')\n",
    "    data[\"text\"] = text.lower()\n",
    "    return data"
   ]
  },
  {
   "cell_type": "code",
   "execution_count": 68,
   "metadata": {},
   "outputs": [
    {
     "name": "stderr",
     "output_type": "stream",
     "text": [
      "Loading cached processed dataset at /home/amine/.cache/huggingface/datasets/imdb/plain_text/1.0.0/d613c88cf8fa3bab83b4ded3713f1f74830d1100e171db75bbddb80b3345c9c0/cache-a1ff6ac6f3dae5b2.arrow\n",
      "Loading cached processed dataset at /home/amine/.cache/huggingface/datasets/imdb/plain_text/1.0.0/d613c88cf8fa3bab83b4ded3713f1f74830d1100e171db75bbddb80b3345c9c0/cache-3ff24866f561b56d.arrow\n",
      "Loading cached processed dataset at /home/amine/.cache/huggingface/datasets/imdb/plain_text/1.0.0/d613c88cf8fa3bab83b4ded3713f1f74830d1100e171db75bbddb80b3345c9c0/cache-c8e6bf051898815c.arrow\n"
     ]
    }
   ],
   "source": [
    "updated_dataset= dataset.map(preprocess)"
   ]
  },
  {
   "attachments": {},
   "cell_type": "markdown",
   "metadata": {},
   "source": [
    "2- Naive Bayes classifier from scratch"
   ]
  },
  {
   "cell_type": "code",
   "execution_count": 69,
   "metadata": {},
   "outputs": [],
   "source": [
    "import math\n",
    "from vaderSentiment.vaderSentiment import SentimentIntensityAnalyzer\n",
    "def build_vocabulary_string(Vocabulary : dict[int], text : string, text_category : int, Categories : set[int]):\n",
    "    '''Updates the Vocabulary by adding the words contained in the text'''\n",
    "    word_count = 0\n",
    "    features_vector = [0,0,0,0,0,0,0]\n",
    "    \n",
    "    Analyser = SentimentIntensityAnalyzer()\n",
    "    #test_dict = Analyser.polarity_scores(text)\n",
    "    \n",
    "    for word in text.split():\n",
    "        if not (word in Vocabulary) :\n",
    "            Vocabulary[word] = {}\n",
    "            for category in Categories:\n",
    "                Vocabulary[word][category] = 0\n",
    "        word_count += 1\n",
    "        if (word == \"no\") :\n",
    "            features_vector[0] = 1\n",
    "        if (word == \"i\" or word == \"you\") :\n",
    "            features_vector[1] +=  1\n",
    "        if (word == \"no\") :\n",
    "            features_vector[2] = 1\n",
    "        \n",
    "        test_dict = Analyser.polarity_scores(word)\n",
    "        if (test_dict[\"compound\"] >= 0.05):\n",
    "            features_vector[4] += 1\n",
    "        elif (test_dict[\"compound\"] <= -0.05):\n",
    "            features_vector[5] += 1\n",
    "        else : #BONUS FEATURE, number of neutral lexicon\n",
    "            features_vector[6] += 1\n",
    "    \n",
    "        \n",
    "        Vocabulary[word][text_category] += 1\n",
    "    features_vector[3] = math.log(word_count)\n",
    "    return Vocabulary, features_vector\n",
    "\n",
    "def build_vocabulary(dataset : dataset_dict.DatasetDict, Categories : set[int]) -> dict[int]:\n",
    "    '''Construct a vocabulary from the documents contained in dataset'''\n",
    "    Vocabulary = {}\n",
    "    for document in dataset:\n",
    "        Vocabulary, features_vector= build_vocabulary_string(Vocabulary, document[\"text\"], document[\"label\"], Categories)\n",
    "    return Vocabulary, features_vector"
   ]
  },
  {
   "cell_type": "code",
   "execution_count": 70,
   "metadata": {},
   "outputs": [],
   "source": [
    "categories = {0,1}\n",
    "voc, feat = build_vocabulary(updated_dataset[\"train\"],categories)\n"
   ]
  },
  {
   "attachments": {},
   "cell_type": "markdown",
   "metadata": {},
   "source": [
    "# II REGRESSION LINEAIRE"
   ]
  },
  {
   "cell_type": "code",
   "execution_count": null,
   "metadata": {},
   "outputs": [],
   "source": []
  }
 ],
 "metadata": {
  "kernelspec": {
   "display_name": "Python 3 (ipykernel)",
   "language": "python",
   "name": "python3"
  },
  "language_info": {
   "codemirror_mode": {
    "name": "ipython",
    "version": 3
   },
   "file_extension": ".py",
   "mimetype": "text/x-python",
   "name": "python",
   "nbconvert_exporter": "python",
   "pygments_lexer": "ipython3",
   "version": "3.10.6"
  }
 },
 "nbformat": 4,
 "nbformat_minor": 1
}
