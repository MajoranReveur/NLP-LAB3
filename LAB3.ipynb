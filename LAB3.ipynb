{
 "cells": [
  {
   "cell_type": "markdown",
   "metadata": {},
   "source": [
    "# PART I - The Dataset"
   ]
  },
  {
   "cell_type": "code",
   "execution_count": 1,
   "metadata": {},
   "outputs": [
    {
     "name": "stderr",
     "output_type": "stream",
     "text": [
      "/home/amine/.local/lib/python3.10/site-packages/tqdm/auto.py:21: TqdmWarning: IProgress not found. Please update jupyter and ipywidgets. See https://ipywidgets.readthedocs.io/en/stable/user_install.html\n",
      "  from .autonotebook import tqdm as notebook_tqdm\n"
     ]
    }
   ],
   "source": [
    "from datasets import load_dataset_builder\n",
    "ds_builder = load_dataset_builder(\"imdb\")"
   ]
  },
  {
   "cell_type": "code",
   "execution_count": 2,
   "metadata": {},
   "outputs": [
    {
     "name": "stdout",
     "output_type": "stream",
     "text": [
      "Large Movie Review Dataset.\n",
      "This is a dataset for binary sentiment classification containing substantially more data than previous benchmark datasets. We provide a set of 25,000 highly polar movie reviews for training, and 25,000 for testing. There is additional unlabeled data for use as well.\n"
     ]
    }
   ],
   "source": [
    "print(ds_builder.info.description)"
   ]
  },
  {
   "cell_type": "code",
   "execution_count": 3,
   "metadata": {},
   "outputs": [
    {
     "data": {
      "text/plain": [
       "{'text': Value(dtype='string', id=None),\n",
       " 'label': ClassLabel(names=['neg', 'pos'], id=None)}"
      ]
     },
     "execution_count": 3,
     "metadata": {},
     "output_type": "execute_result"
    }
   ],
   "source": [
    "ds_builder.info.features"
   ]
  },
  {
   "cell_type": "code",
   "execution_count": 4,
   "metadata": {},
   "outputs": [],
   "source": [
    "from datasets import load_dataset"
   ]
  },
  {
   "cell_type": "code",
   "execution_count": 5,
   "metadata": {},
   "outputs": [],
   "source": [
    "from datasets import get_dataset_split_names"
   ]
  },
  {
   "cell_type": "code",
   "execution_count": 6,
   "metadata": {},
   "outputs": [
    {
     "data": {
      "text/plain": [
       "['train', 'test', 'unsupervised']"
      ]
     },
     "execution_count": 6,
     "metadata": {},
     "output_type": "execute_result"
    }
   ],
   "source": [
    "get_dataset_split_names(\"imdb\")"
   ]
  },
  {
   "cell_type": "markdown",
   "metadata": {},
   "source": [
    "1 - How many splits does the dataset has ?"
   ]
  },
  {
   "cell_type": "code",
   "execution_count": 7,
   "metadata": {},
   "outputs": [
    {
     "name": "stdout",
     "output_type": "stream",
     "text": [
      "3\n"
     ]
    }
   ],
   "source": [
    "print(len(get_dataset_split_names(\"imdb\")))"
   ]
  },
  {
   "cell_type": "code",
   "execution_count": 8,
   "metadata": {},
   "outputs": [
    {
     "name": "stderr",
     "output_type": "stream",
     "text": [
      "Found cached dataset imdb (/home/amine/.cache/huggingface/datasets/imdb/plain_text/1.0.0/d613c88cf8fa3bab83b4ded3713f1f74830d1100e171db75bbddb80b3345c9c0)\n",
      "100%|██████████| 3/3 [00:00<00:00, 77.59it/s]\n"
     ]
    }
   ],
   "source": [
    "dataset = load_dataset(\"imdb\")"
   ]
  },
  {
   "cell_type": "markdown",
   "metadata": {},
   "source": [
    "2 - How big are thes splits ?"
   ]
  },
  {
   "cell_type": "code",
   "execution_count": 9,
   "metadata": {},
   "outputs": [
    {
     "data": {
      "text/plain": [
       "DatasetDict({\n",
       "    train: Dataset({\n",
       "        features: ['text', 'label'],\n",
       "        num_rows: 25000\n",
       "    })\n",
       "    test: Dataset({\n",
       "        features: ['text', 'label'],\n",
       "        num_rows: 25000\n",
       "    })\n",
       "    unsupervised: Dataset({\n",
       "        features: ['text', 'label'],\n",
       "        num_rows: 50000\n",
       "    })\n",
       "})"
      ]
     },
     "execution_count": 9,
     "metadata": {},
     "output_type": "execute_result"
    }
   ],
   "source": [
    "dataset"
   ]
  },
  {
   "cell_type": "markdown",
   "metadata": {},
   "source": [
    "3 - What is the proportion of each class on the supervised splits ?"
   ]
  },
  {
   "cell_type": "code",
   "execution_count": 10,
   "metadata": {},
   "outputs": [
    {
     "data": {
      "text/plain": [
       "25000"
      ]
     },
     "execution_count": 10,
     "metadata": {},
     "output_type": "execute_result"
    }
   ],
   "source": [
    "sum(dataset[\"train\"][\"label\"]) + sum(dataset[\"test\"][\"label\"]) #count of supervised documents with positive reviews"
   ]
  },
  {
   "cell_type": "code",
   "execution_count": 11,
   "metadata": {},
   "outputs": [
    {
     "data": {
      "text/plain": [
       "50000"
      ]
     },
     "execution_count": 11,
     "metadata": {},
     "output_type": "execute_result"
    }
   ],
   "source": [
    "len(dataset[\"train\"]) + len(dataset[\"test\"]) #count of supervised documents"
   ]
  },
  {
   "cell_type": "markdown",
   "metadata": {},
   "source": [
    "# PART II - Naive Bayes Classifier"
   ]
  },
  {
   "cell_type": "code",
   "execution_count": 12,
   "metadata": {},
   "outputs": [
    {
     "name": "stderr",
     "output_type": "stream",
     "text": [
      "Found cached dataset imdb (/home/amine/.cache/huggingface/datasets/imdb/plain_text/1.0.0/d613c88cf8fa3bab83b4ded3713f1f74830d1100e171db75bbddb80b3345c9c0)\n",
      "100%|██████████| 3/3 [00:00<00:00, 899.61it/s]\n"
     ]
    }
   ],
   "source": [
    "import string\n",
    "dataset = load_dataset(\"imdb\")"
   ]
  },
  {
   "cell_type": "code",
   "execution_count": 13,
   "metadata": {},
   "outputs": [
    {
     "data": {
      "text/plain": [
       "'I rented I AM CURIOUS-YELLOW from my video store because of all the controversy that surrounded it when it was first released in 1967. I also heard that at first it was seized by U.S. customs if it ever tried to enter this country, therefore being a fan of films considered \"controversial\" I really had to see this for myself.<br /><br />The plot is centered around a young Swedish drama student named Lena who wants to learn everything she can about life. In particular she wants to focus her attentions to making some sort of documentary on what the average Swede thought about certain political issues such as the Vietnam War and race issues in the United States. In between asking politicians and ordinary denizens of Stockholm about their opinions on politics, she has sex with her drama teacher, classmates, and married men.<br /><br />What kills me about I AM CURIOUS-YELLOW is that 40 years ago, this was considered pornographic. Really, the sex and nudity scenes are few and far between, even then it\\'s not shot like some cheaply made porno. While my countrymen mind find it shocking, in reality sex and nudity are a major staple in Swedish cinema. Even Ingmar Bergman, arguably their answer to good old boy John Ford, had sex scenes in his films.<br /><br />I do commend the filmmakers for the fact that any sex shown in the film is shown for artistic purposes rather than just to shock people and make money to be shown in pornographic theaters in America. I AM CURIOUS-YELLOW is a good film for anyone wanting to study the meat and potatoes (no pun intended) of Swedish cinema. But really, this film doesn\\'t have much of a plot.'"
      ]
     },
     "metadata": {},
     "output_type": "display_data"
    }
   ],
   "source": [
    "display(dataset[\"train\"][0][\"text\"])"
   ]
  },
  {
   "attachments": {},
   "cell_type": "markdown",
   "metadata": {},
   "source": [
    "1- Preprocess function"
   ]
  },
  {
   "cell_type": "code",
   "execution_count": 14,
   "metadata": {},
   "outputs": [],
   "source": [
    "def preprocess(data):\n",
    "    str = data[\"text\"]\n",
    "    for c in string.punctuation:\n",
    "        if (c != \".\"):\n",
    "          str = str.replace(c, ' ')\n",
    "    data[\"text\"] = str.lower()\n",
    "    \n",
    "    return data"
   ]
  },
  {
   "cell_type": "code",
   "execution_count": 15,
   "metadata": {},
   "outputs": [
    {
     "data": {
      "text/plain": [
       "{'text': 'i rented i am curious yellow from my video store because of all the controversy that surrounded it when it was first released in 1967. i also heard that at first it was seized by u.s. customs if it ever tried to enter this country  therefore being a fan of films considered  controversial  i really had to see this for myself. br    br   the plot is centered around a young swedish drama student named lena who wants to learn everything she can about life. in particular she wants to focus her attentions to making some sort of documentary on what the average swede thought about certain political issues such as the vietnam war and race issues in the united states. in between asking politicians and ordinary denizens of stockholm about their opinions on politics  she has sex with her drama teacher  classmates  and married men. br    br   what kills me about i am curious yellow is that 40 years ago  this was considered pornographic. really  the sex and nudity scenes are few and far between  even then it s not shot like some cheaply made porno. while my countrymen mind find it shocking  in reality sex and nudity are a major staple in swedish cinema. even ingmar bergman  arguably their answer to good old boy john ford  had sex scenes in his films. br    br   i do commend the filmmakers for the fact that any sex shown in the film is shown for artistic purposes rather than just to shock people and make money to be shown in pornographic theaters in america. i am curious yellow is a good film for anyone wanting to study the meat and potatoes  no pun intended  of swedish cinema. but really  this film doesn t have much of a plot.',\n",
       " 'label': 0}"
      ]
     },
     "execution_count": 15,
     "metadata": {},
     "output_type": "execute_result"
    }
   ],
   "source": [
    "preprocess(dataset[\"train\"][0])"
   ]
  },
  {
   "cell_type": "code",
   "execution_count": 16,
   "metadata": {},
   "outputs": [
    {
     "name": "stderr",
     "output_type": "stream",
     "text": [
      "None of PyTorch, TensorFlow >= 2.0, or Flax have been found. Models won't be available and only tokenizers, configuration and file/data utilities can be used.\n",
      "Loading cached processed dataset at /home/amine/.cache/huggingface/datasets/imdb/plain_text/1.0.0/d613c88cf8fa3bab83b4ded3713f1f74830d1100e171db75bbddb80b3345c9c0/cache-1e31ce8330321103.arrow\n",
      "Loading cached processed dataset at /home/amine/.cache/huggingface/datasets/imdb/plain_text/1.0.0/d613c88cf8fa3bab83b4ded3713f1f74830d1100e171db75bbddb80b3345c9c0/cache-5743b37a20b41bc8.arrow\n",
      "Loading cached processed dataset at /home/amine/.cache/huggingface/datasets/imdb/plain_text/1.0.0/d613c88cf8fa3bab83b4ded3713f1f74830d1100e171db75bbddb80b3345c9c0/cache-dff6e4d0329eab1d.arrow\n"
     ]
    }
   ],
   "source": [
    "from transformers import AutoTokenizer\n",
    "tokenizer = AutoTokenizer.from_pretrained(\"bert-base-cased\")\n",
    "dataset = dataset.map(lambda examples: tokenizer(examples[\"text\"]), batched=True)"
   ]
  },
  {
   "cell_type": "code",
   "execution_count": 17,
   "metadata": {},
   "outputs": [
    {
     "data": {
      "text/plain": [
       "12500"
      ]
     },
     "execution_count": 17,
     "metadata": {},
     "output_type": "execute_result"
    }
   ],
   "source": [
    "sum(dataset[\"train\"][\"label\"])"
   ]
  },
  {
   "cell_type": "code",
   "execution_count": 18,
   "metadata": {},
   "outputs": [
    {
     "name": "stderr",
     "output_type": "stream",
     "text": [
      "Loading cached processed dataset at /home/amine/.cache/huggingface/datasets/imdb/plain_text/1.0.0/d613c88cf8fa3bab83b4ded3713f1f74830d1100e171db75bbddb80b3345c9c0/cache-b28e1aeaa9fa126a.arrow\n",
      "Loading cached processed dataset at /home/amine/.cache/huggingface/datasets/imdb/plain_text/1.0.0/d613c88cf8fa3bab83b4ded3713f1f74830d1100e171db75bbddb80b3345c9c0/cache-d91771deae58c293.arrow\n",
      "Loading cached processed dataset at /home/amine/.cache/huggingface/datasets/imdb/plain_text/1.0.0/d613c88cf8fa3bab83b4ded3713f1f74830d1100e171db75bbddb80b3345c9c0/cache-374f108ea2b07007.arrow\n"
     ]
    }
   ],
   "source": [
    "updated_dataset = dataset.map(preprocess)"
   ]
  },
  {
   "attachments": {},
   "cell_type": "markdown",
   "metadata": {},
   "source": [
    "2- Naive Bayes classifier from scratch"
   ]
  },
  {
   "cell_type": "code",
   "execution_count": 19,
   "metadata": {},
   "outputs": [
    {
     "data": {
      "text/plain": [
       "{'i': {0: 46324, 1: 40142},\n",
       " 'rented': {0: 233, 1: 100},\n",
       " 'am': {0: 1497, 1: 1253},\n",
       " 'curious': {0: 118, 1: 120},\n",
       " 'yellow': {0: 47, 1: 56},\n",
       " 'from': {0: 9654, 1: 10693},\n",
       " 'my': {0: 5996, 1: 6466},\n",
       " 'video': {0: 946, 1: 619},\n",
       " 'store': {0: 238, 1: 198},\n",
       " 'because': {0: 4949, 1: 4069},\n",
       " 'of': {0: 68850, 1: 76737},\n",
       " 'all': {0: 11200, 1: 11406},\n",
       " 'the': {0: 163024, 1: 172837},\n",
       " 'controversy': {0: 19, 1: 26},\n",
       " 'that': {0: 36955, 1: 35117},\n",
       " 'surrounded': {0: 73, 1: 58},\n",
       " 'it': {0: 44553, 1: 44512},\n",
       " 'when': {0: 6699, 1: 7433},\n",
       " 'was': {0: 25986, 1: 21702},\n",
       " 'first': {0: 4199, 1: 4642},\n",
       " 'released': {0: 352, 1: 516},\n",
       " 'in': {0: 43446, 1: 49867},\n",
       " '1967.': {0: 3, 1: 6},\n",
       " 'also': {0: 3551, 1: 5456},\n",
       " 'heard': {0: 532, 1: 535},\n",
       " 'at': {0: 12171, 1: 11160},\n",
       " 'seized': {0: 6, 1: 4},\n",
       " 'by': {0: 10495, 1: 11945},\n",
       " 'u.s.': {0: 66, 1: 147},\n",
       " 'customs': {0: 11, 1: 20},\n",
       " 'if': {0: 9445, 1: 7222},\n",
       " 'ever': {0: 3030, 1: 2514},\n",
       " 'tried': {0: 501, 1: 252},\n",
       " 'to': {0: 68777, 1: 66510},\n",
       " 'enter': {0: 84, 1: 110},\n",
       " 'this': {0: 39825, 1: 34437},\n",
       " 'country': {0: 328, 1: 471},\n",
       " 'therefore': {0: 173, 1: 160},\n",
       " 'being': {0: 3354, 1: 3179},\n",
       " 'a': {0: 79132, 1: 83422},\n",
       " 'fan': {0: 826, 1: 923},\n",
       " 'films': {0: 2675, 1: 3326},\n",
       " 'considered': {0: 222, 1: 254},\n",
       " 'controversial': {0: 56, 1: 84},\n",
       " 'really': {0: 6130, 1: 5421},\n",
       " 'had': {0: 6068, 1: 5095},\n",
       " 'see': {0: 5307, 1: 5795},\n",
       " 'for': {0: 21730, 1: 22222},\n",
       " 'myself.': {0: 47, 1: 48},\n",
       " 'br': {0: 52636, 1: 49235},\n",
       " 'plot': {0: 3771, 1: 2212},\n",
       " 'is': {0: 49478, 1: 56806},\n",
       " 'centered': {0: 59, 1: 48},\n",
       " 'around': {0: 1806, 1: 1546},\n",
       " 'young': {0: 1292, 1: 2311},\n",
       " 'swedish': {0: 49, 1: 59},\n",
       " 'drama': {0: 448, 1: 731},\n",
       " 'student': {0: 202, 1: 169},\n",
       " 'named': {0: 358, 1: 438},\n",
       " 'lena': {0: 25, 1: 71},\n",
       " 'who': {0: 9935, 1: 11432},\n",
       " 'wants': {0: 602, 1: 652},\n",
       " 'learn': {0: 316, 1: 390},\n",
       " 'everything': {0: 1113, 1: 1043},\n",
       " 'she': {0: 6407, 1: 7733},\n",
       " 'can': {0: 7610, 1: 6925},\n",
       " 'about': {0: 8812, 1: 8106},\n",
       " 'life.': {0: 464, 1: 733},\n",
       " 'particular': {0: 276, 1: 422},\n",
       " 'focus': {0: 203, 1: 276},\n",
       " 'her': {0: 7554, 1: 9948},\n",
       " 'attentions': {0: 10, 1: 11},\n",
       " 'making': {0: 1615, 1: 1193},\n",
       " 'some': {0: 8278, 1: 7409},\n",
       " 'sort': {0: 818, 1: 617},\n",
       " 'documentary': {0: 338, 1: 501},\n",
       " 'on': {0: 16643, 1: 16600},\n",
       " 'what': {0: 8342, 1: 7695},\n",
       " 'average': {0: 367, 1: 293},\n",
       " 'swede': {0: 4, 1: 1},\n",
       " 'thought': {0: 1741, 1: 1600},\n",
       " 'certain': {0: 314, 1: 444},\n",
       " 'political': {0: 243, 1: 363},\n",
       " 'issues': {0: 160, 1: 214},\n",
       " 'such': {0: 2509, 1: 2551},\n",
       " 'as': {0: 20578, 1: 26269},\n",
       " 'vietnam': {0: 93, 1: 86},\n",
       " 'war': {0: 655, 1: 1146},\n",
       " 'and': {0: 74020, 1: 89464},\n",
       " 'race': {0: 145, 1: 176},\n",
       " 'united': {0: 83, 1: 129},\n",
       " 'states.': {0: 18, 1: 43},\n",
       " 'between': {0: 1339, 1: 1989},\n",
       " 'asking': {0: 140, 1: 84},\n",
       " 'politicians': {0: 20, 1: 24},\n",
       " 'ordinary': {0: 92, 1: 156},\n",
       " 'denizens': {0: 2, 1: 8},\n",
       " 'stockholm': {0: 6, 1: 1},\n",
       " 'their': {0: 5272, 1: 6102},\n",
       " 'opinions': {0: 36, 1: 38},\n",
       " 'politics': {0: 85, 1: 101},\n",
       " 'has': {0: 7569, 1: 9147},\n",
       " 'sex': {0: 965, 1: 596},\n",
       " 'with': {0: 20622, 1: 23052},\n",
       " 'teacher': {0: 150, 1: 137},\n",
       " 'classmates': {0: 14, 1: 19},\n",
       " 'married': {0: 213, 1: 335},\n",
       " 'men.': {0: 59, 1: 93},\n",
       " 'kills': {0: 318, 1: 197},\n",
       " 'me': {0: 4846, 1: 4495},\n",
       " '40': {0: 185, 1: 197},\n",
       " 'years': {0: 1541, 1: 2374},\n",
       " 'ago': {0: 315, 1: 455},\n",
       " 'pornographic.': {0: 2, 1: 2},\n",
       " 'nudity': {0: 380, 1: 161},\n",
       " 'scenes': {0: 2472, 1: 2163},\n",
       " 'are': {0: 14498, 1: 14695},\n",
       " 'few': {0: 2137, 1: 1884},\n",
       " 'far': {0: 1565, 1: 1294},\n",
       " 'even': {0: 7646, 1: 4935},\n",
       " 'then': {0: 4643, 1: 3231},\n",
       " 's': {0: 30258, 1: 32067},\n",
       " 'not': {0: 15979, 1: 14042},\n",
       " 'shot': {0: 1034, 1: 842},\n",
       " 'like': {0: 11127, 1: 8923},\n",
       " 'cheaply': {0: 39, 1: 19},\n",
       " 'made': {0: 4202, 1: 3582},\n",
       " 'porno.': {0: 6, 1: 1},\n",
       " 'while': {0: 2352, 1: 2828},\n",
       " 'countrymen': {0: 2, 1: 4},\n",
       " 'mind': {0: 859, 1: 831},\n",
       " 'find': {0: 1840, 1: 2238},\n",
       " 'shocking': {0: 143, 1: 160},\n",
       " 'reality': {0: 333, 1: 508},\n",
       " 'major': {0: 485, 1: 439},\n",
       " 'staple': {0: 17, 1: 13},\n",
       " 'cinema.': {0: 127, 1: 190},\n",
       " 'ingmar': {0: 10, 1: 7},\n",
       " 'bergman': {0: 51, 1: 33},\n",
       " 'arguably': {0: 34, 1: 55},\n",
       " 'answer': {0: 187, 1: 145},\n",
       " 'good': {0: 6810, 1: 7039},\n",
       " 'old': {0: 2133, 1: 2230},\n",
       " 'boy': {0: 638, 1: 826},\n",
       " 'john': {0: 848, 1: 1336},\n",
       " 'ford': {0: 119, 1: 169},\n",
       " 'his': {0: 12119, 1: 17192},\n",
       " 'films.': {0: 380, 1: 469},\n",
       " 'do': {0: 5003, 1: 3688},\n",
       " 'commend': {0: 10, 1: 10},\n",
       " 'filmmakers': {0: 336, 1: 199},\n",
       " 'fact': {0: 1796, 1: 1643},\n",
       " 'any': {0: 4617, 1: 2989},\n",
       " 'shown': {0: 403, 1: 547},\n",
       " 'film': {0: 16493, 1: 18206},\n",
       " 'artistic': {0: 151, 1: 181},\n",
       " 'purposes': {0: 27, 1: 30},\n",
       " 'rather': {0: 1393, 1: 1338},\n",
       " 'than': {0: 5179, 1: 4736},\n",
       " 'just': {0: 10560, 1: 7109},\n",
       " 'shock': {0: 199, 1: 163},\n",
       " 'people': {0: 4509, 1: 4162},\n",
       " 'make': {0: 4670, 1: 3286},\n",
       " 'money': {0: 1388, 1: 619},\n",
       " 'be': {0: 14284, 1: 12111},\n",
       " 'pornographic': {0: 22, 1: 17},\n",
       " 'theaters': {0: 89, 1: 84},\n",
       " 'america.': {0: 41, 1: 83},\n",
       " 'anyone': {0: 1330, 1: 1157},\n",
       " 'wanting': {0: 133, 1: 158},\n",
       " 'study': {0: 95, 1: 139},\n",
       " 'meat': {0: 80, 1: 42},\n",
       " 'potatoes': {0: 7, 1: 3},\n",
       " 'no': {0: 7943, 1: 4485},\n",
       " 'pun': {0: 45, 1: 29},\n",
       " 'intended': {0: 203, 1: 154},\n",
       " 'but': {0: 21503, 1: 20607},\n",
       " 'doesn': {0: 2608, 1: 1932},\n",
       " 't': {0: 20000, 1: 13449},\n",
       " 'have': {0: 15083, 1: 12492},\n",
       " 'much': {0: 4777, 1: 4478},\n",
       " 'plot.': {0: 356, 1: 212},\n",
       " 'risible': {0: 7, 1: 1},\n",
       " 'pretentious': {0: 190, 1: 55},\n",
       " 'steaming': {0: 37, 1: 1},\n",
       " 'pile.': {0: 7, 1: 2},\n",
       " 'matter': {0: 467, 1: 519},\n",
       " 'one': {0: 12254, 1: 13017},\n",
       " 'views': {0: 67, 1: 99},\n",
       " 'hardly': {0: 365, 1: 234},\n",
       " 'taken': {0: 484, 1: 490},\n",
       " 'seriously': {0: 534, 1: 241},\n",
       " 'level.': {0: 95, 1: 74},\n",
       " 'claim': {0: 114, 1: 100},\n",
       " 'frontal': {0: 28, 1: 33},\n",
       " 'male': {0: 344, 1: 298},\n",
       " 'an': {0: 10258, 1: 11287},\n",
       " 'automatic': {0: 30, 1: 11},\n",
       " 'nc': {0: 20, 1: 8},\n",
       " '17': {0: 87, 1: 81},\n",
       " 'isn': {0: 1851, 1: 1328},\n",
       " 'true.': {0: 76, 1: 105},\n",
       " 've': {0: 2834, 1: 2308},\n",
       " 'seen': {0: 2749, 1: 3060},\n",
       " 'r': {0: 146, 1: 108},\n",
       " 'rated': {0: 270, 1: 219},\n",
       " 'nudity.': {0: 36, 1: 11},\n",
       " 'granted': {0: 93, 1: 93},\n",
       " 'they': {0: 12959, 1: 9836},\n",
       " 'only': {0: 6714, 1: 5103},\n",
       " 'offer': {0: 168, 1: 141},\n",
       " 'fleeting': {0: 16, 1: 18},\n",
       " 'where': {0: 3195, 1: 3166},\n",
       " 'gaping': {0: 17, 1: 6},\n",
       " 'vulvas': {0: 1, 1: 0},\n",
       " 'flapping': {0: 8, 1: 2},\n",
       " 'labia': {0: 1, 1: 0},\n",
       " 'nowhere': {0: 256, 1: 106},\n",
       " 'don': {0: 5321, 1: 3461},\n",
       " 'exist.': {0: 45, 1: 28},\n",
       " 'same': {0: 2017, 1: 1895},\n",
       " 'goes': {0: 1224, 1: 1156},\n",
       " 'those': {0: 2183, 1: 2468},\n",
       " 'crappy': {0: 193, 1: 43},\n",
       " 'cable': {0: 120, 1: 116},\n",
       " 'shows': {0: 791, 1: 1366},\n",
       " 'schlongs': {0: 1, 1: 0},\n",
       " 'swinging': {0: 28, 1: 24},\n",
       " 'breeze': {0: 4, 1: 16},\n",
       " 'clitoris': {0: 1, 1: 0},\n",
       " 'sight.': {0: 22, 1: 18},\n",
       " 'indie': {0: 82, 1: 96},\n",
       " 'movies': {0: 3462, 1: 3078},\n",
       " 'brown': {0: 91, 1: 156},\n",
       " 'bunny': {0: 35, 1: 39},\n",
       " 'which': {0: 5751, 1: 6247},\n",
       " 'we': {0: 5304, 1: 5504},\n",
       " 're': {0: 2621, 1: 1885},\n",
       " 'treated': {0: 151, 1: 120},\n",
       " 'site': {0: 116, 1: 97},\n",
       " 'vincent': {0: 56, 1: 87},\n",
       " 'gallo': {0: 2, 1: 1},\n",
       " 'throbbing': {0: 8, 1: 5},\n",
       " 'johnson': {0: 77, 1: 99},\n",
       " 'trace': {0: 32, 1: 15},\n",
       " 'pink': {0: 46, 1: 37},\n",
       " 'visible': {0: 44, 1: 32},\n",
       " 'chloe': {0: 16, 1: 28},\n",
       " 'sevigny.': {0: 1, 1: 0},\n",
       " 'before': {0: 1956, 1: 1987},\n",
       " 'crying': {0: 97, 1: 76},\n",
       " 'or': {0: 10202, 1: 7704},\n",
       " 'implying': {0: 11, 1: 7},\n",
       " 'double': {0: 200, 1: 195},\n",
       " 'standard': {0: 218, 1: 188},\n",
       " 'matters': {0: 95, 1: 90},\n",
       " 'mentally': {0: 80, 1: 78},\n",
       " 'obtuse': {0: 3, 1: 5},\n",
       " 'should': {0: 2896, 1: 2095},\n",
       " 'take': {0: 1780, 1: 1686},\n",
       " 'into': {0: 4534, 1: 4520},\n",
       " 'account': {0: 84, 1: 90},\n",
       " 'unavoidably': {0: 3, 1: 3},\n",
       " 'obvious': {0: 623, 1: 387},\n",
       " 'anatomical': {0: 2, 1: 2},\n",
       " 'difference': {0: 147, 1: 173},\n",
       " 'men': {0: 761, 1: 987},\n",
       " 'women': {0: 858, 1: 785},\n",
       " 'there': {0: 10317, 1: 7653},\n",
       " 'genitals': {0: 16, 1: 4},\n",
       " 'display': {0: 97, 1: 90},\n",
       " 'actresses': {0: 153, 1: 192},\n",
       " 'appears': {0: 445, 1: 376},\n",
       " 'nude': {0: 103, 1: 83},\n",
       " 'cannot': {0: 610, 1: 486},\n",
       " 'said': {0: 1169, 1: 931},\n",
       " 'man.': {0: 196, 1: 236},\n",
       " 'you': {0: 17153, 1: 16237},\n",
       " 'generally': {0: 250, 1: 211},\n",
       " 'won': {0: 763, 1: 907},\n",
       " 'female': {0: 530, 1: 394},\n",
       " 'american': {0: 966, 1: 1230},\n",
       " 'anything': {0: 1698, 1: 1001},\n",
       " 'short': {0: 788, 1: 940},\n",
       " 'porn': {0: 235, 1: 86},\n",
       " 'explicit': {0: 35, 1: 81},\n",
       " 'erotica.': {0: 3, 1: 1},\n",
       " 'alleged': {0: 42, 1: 13},\n",
       " 'less': {0: 979, 1: 898},\n",
       " 'admittedly': {0: 78, 1: 54},\n",
       " 'depressing': {0: 108, 1: 94},\n",
       " 'ability': {0: 217, 1: 207},\n",
       " 'come': {0: 1547, 1: 1509},\n",
       " 'terms': {0: 165, 1: 228},\n",
       " 'culturally': {0: 6, 1: 4},\n",
       " 'insides': {0: 1, 1: 6},\n",
       " 'bodies.': {0: 17, 1: 7},\n",
       " 'avoid': {0: 566, 1: 129},\n",
       " 'type': {0: 531, 1: 556},\n",
       " 'future.': {0: 47, 1: 121},\n",
       " 'interesting': {0: 1429, 1: 1321},\n",
       " 'experiment': {0: 91, 1: 53},\n",
       " 'tells': {0: 325, 1: 554},\n",
       " 'cogent': {0: 4, 1: 4},\n",
       " 'story.': {0: 593, 1: 697},\n",
       " 'might': {0: 1653, 1: 1256},\n",
       " 'feel': {0: 1323, 1: 1546},\n",
       " 'virtuous': {0: 9, 1: 6},\n",
       " 'sitting': {0: 273, 1: 170},\n",
       " 'thru': {0: 45, 1: 48},\n",
       " 'touches': {0: 56, 1: 134},\n",
       " 'so': {0: 11184, 1: 8926},\n",
       " 'many': {0: 2886, 1: 3734},\n",
       " 'important': {0: 347, 1: 526},\n",
       " 'does': {0: 2773, 1: 2935},\n",
       " 'without': {0: 1587, 1: 1656},\n",
       " 'discernable': {0: 2, 1: 1},\n",
       " 'motive.': {0: 5, 1: 4},\n",
       " 'viewer': {0: 496, 1: 619},\n",
       " 'comes': {0: 1216, 1: 1255},\n",
       " 'away': {0: 1270, 1: 1108},\n",
       " 'new': {0: 1818, 1: 2429},\n",
       " 'perspectives': {0: 10, 1: 21},\n",
       " 'unless': {0: 521, 1: 136},\n",
       " 'up': {0: 6576, 1: 5937},\n",
       " 'wanders': {0: 43, 1: 21},\n",
       " 'will': {0: 3959, 1: 5159},\n",
       " 'invariably': {0: 14, 1: 14},\n",
       " 'during': {0: 1005, 1: 1124},\n",
       " 'pointless': {0: 382, 1: 34},\n",
       " '.': {0: 6646, 1: 6543},\n",
       " 'better': {0: 2877, 1: 2105},\n",
       " 'spend': {0: 304, 1: 197},\n",
       " 'time': {0: 5046, 1: 5303},\n",
       " 'staring': {0: 60, 1: 33},\n",
       " 'out': {0: 8491, 1: 7565},\n",
       " 'window': {0: 100, 1: 102},\n",
       " 'tree': {0: 91, 1: 59},\n",
       " 'growing.': {0: 3, 1: 4},\n",
       " 'probably': {0: 1437, 1: 1392},\n",
       " 'inspired': {0: 112, 1: 219},\n",
       " 'godard': {0: 29, 1: 20},\n",
       " 'masculin': {0: 1, 1: 0},\n",
       " 'féminin': {0: 1, 1: 0},\n",
       " 'urge': {0: 55, 1: 46},\n",
       " 'instead.': {0: 165, 1: 39},\n",
       " 'two': {0: 3100, 1: 3643},\n",
       " 'strong': {0: 319, 1: 736},\n",
       " 'elements': {0: 319, 1: 396},\n",
       " '1': {0: 1239, 1: 565},\n",
       " 'realistic': {0: 188, 1: 450},\n",
       " 'acting': {0: 3701, 1: 2237},\n",
       " '2': {0: 1698, 1: 830},\n",
       " 'impressive': {0: 141, 1: 277},\n",
       " 'undeservedly': {0: 8, 1: 3},\n",
       " 'photo.': {0: 3, 1: 0},\n",
       " 'apart': {0: 286, 1: 263},\n",
       " 'strikes': {0: 40, 1: 87},\n",
       " 'most': {0: 3895, 1: 4837},\n",
       " 'endless': {0: 159, 1: 66},\n",
       " 'stream': {0: 22, 1: 30},\n",
       " 'silliness.': {0: 12, 1: 5},\n",
       " 'nyman': {0: 2, 1: 1},\n",
       " 'annoying': {0: 645, 1: 182},\n",
       " 'actress': {0: 530, 1: 559},\n",
       " 'world.': {0: 179, 1: 355},\n",
       " 'acts': {0: 203, 1: 170},\n",
       " 'stupid': {0: 1214, 1: 246},\n",
       " '...it': {0: 8, 1: 5},\n",
       " 'unattractive.': {0: 4, 1: 2},\n",
       " 'comparing': {0: 46, 1: 50},\n",
       " 'intellectuality': {0: 2, 1: 0},\n",
       " 'been': {0: 5043, 1: 4136},\n",
       " 'replaced': {0: 81, 1: 75},\n",
       " 'stupidity.': {0: 32, 1: 5},\n",
       " 'going': {0: 2262, 1: 1747},\n",
       " 'too': {0: 3822, 1: 3167},\n",
       " 'subject': {0: 301, 1: 346},\n",
       " 'would': {0: 7005, 1: 5382},\n",
       " 'say': {0: 2853, 1: 2331},\n",
       " 'follows': {0: 185, 1: 295},\n",
       " 'ideals': {0: 17, 1: 18},\n",
       " 'french': {0: 279, 1: 493},\n",
       " 'society.': {0: 39, 1: 98},\n",
       " 'movie': {0: 21123, 1: 16330},\n",
       " 'its': {0: 3579, 1: 4553},\n",
       " 'place.': {0: 164, 1: 184},\n",
       " '10.': {0: 350, 1: 421},\n",
       " 'oh': {0: 1033, 1: 346},\n",
       " 'brother...after': {0: 1, 1: 0},\n",
       " 'hearing': {0: 108, 1: 113},\n",
       " 'ridiculous': {0: 606, 1: 148},\n",
       " 'umpteen': {0: 6, 1: 1},\n",
       " 'think': {0: 3577, 1: 3554},\n",
       " 'peggy': {0: 16, 1: 30},\n",
       " 'lee': {0: 413, 1: 365},\n",
       " 'song..': {0: 1, 1: 0},\n",
       " '...i': {0: 16, 1: 10},\n",
       " 'early': {0: 634, 1: 945},\n",
       " 'teen': {0: 203, 1: 134},\n",
       " 'smoked': {0: 8, 1: 3},\n",
       " 'fish': {0: 62, 1: 76},\n",
       " 'hit': {0: 441, 1: 588},\n",
       " 'get': {0: 4983, 1: 4231},\n",
       " 'theater': {0: 401, 1: 296},\n",
       " 'although': {0: 1025, 1: 1493},\n",
       " 'did': {0: 3305, 1: 2580},\n",
       " 'manage': {0: 161, 1: 110},\n",
       " 'sneak': {0: 50, 1: 34},\n",
       " 'goodbye': {0: 18, 1: 31},\n",
       " 'columbus': {0: 8, 1: 4},\n",
       " 'screening': {0: 68, 1: 84},\n",
       " 'local': {0: 425, 1: 449},\n",
       " 'museum': {0: 24, 1: 59},\n",
       " 'beckoned': {0: 1, 1: 0},\n",
       " 'finally': {0: 712, 1: 814},\n",
       " 'could': {0: 4645, 1: 3208},\n",
       " 'except': {0: 723, 1: 388},\n",
       " 'now': {0: 2057, 1: 2124},\n",
       " 'parents': {0: 286, 1: 406},\n",
       " 'were': {0: 5961, 1: 4728},\n",
       " 'schlepped': {0: 1, 1: 0},\n",
       " 'reason': {0: 1363, 1: 717},\n",
       " 'condemned': {0: 14, 1: 23},\n",
       " 'anonymous': {0: 22, 1: 14},\n",
       " 'sands': {0: 19, 1: 3},\n",
       " 'obscenity': {0: 5, 1: 1},\n",
       " 'case': {0: 715, 1: 639},\n",
       " 'sparked': {0: 6, 1: 6},\n",
       " 'release.': {0: 59, 1: 78},\n",
       " 'millions': {0: 91, 1: 51},\n",
       " 'flocked': {0: 2, 1: 4},\n",
       " 'stinker': {0: 64, 1: 3},\n",
       " 'thinking': {0: 684, 1: 439},\n",
       " 'film...instead': {0: 1, 1: 0},\n",
       " 'got': {0: 1926, 1: 1618},\n",
       " 'lots': {0: 399, 1: 391},\n",
       " 'closeups': {0: 16, 1: 10},\n",
       " 'gnarly': {0: 2, 1: 4},\n",
       " 'repulsive': {0: 37, 1: 13},\n",
       " 'swedes': {0: 2, 1: 2},\n",
       " 'street': {0: 272, 1: 356},\n",
       " 'interviews': {0: 77, 1: 78},\n",
       " 'bland': {0: 199, 1: 50},\n",
       " 'shopping': {0: 39, 1: 25},\n",
       " 'malls': {0: 2, 1: 3},\n",
       " 'asinie': {0: 1, 1: 0},\n",
       " 'pretension...and': {0: 1, 1: 0},\n",
       " 'feeble': {0: 42, 1: 10},\n",
       " 'cares': {0: 113, 1: 93},\n",
       " 'simulated': {0: 17, 1: 7},\n",
       " 'saggy': {0: 2, 1: 4},\n",
       " 'pale': {0: 29, 1: 27},\n",
       " 'actors.': {0: 203, 1: 186},\n",
       " 'cultural': {0: 71, 1: 109},\n",
       " 'icon': {0: 24, 1: 54},\n",
       " 'holy': {0: 74, 1: 36},\n",
       " 'grail': {0: 15, 1: 10},\n",
       " 'historic': {0: 26, 1: 47},\n",
       " 'artifact..whatever': {0: 1, 1: 0},\n",
       " 'thing': {0: 2575, 1: 1498},\n",
       " 'shred': {0: 36, 1: 8},\n",
       " 'burn': {0: 80, 1: 41},\n",
       " 'stuff': {0: 541, 1: 398},\n",
       " 'ashes': {0: 9, 1: 10},\n",
       " 'lead': {0: 651, 1: 590},\n",
       " 'box': {0: 328, 1: 259},\n",
       " 'elite': {0: 34, 1: 26},\n",
       " 'esthetes': {0: 1, 1: 0},\n",
       " 'still': {0: 2260, 1: 3313},\n",
       " 'scrape': {0: 8, 1: 2},\n",
       " 'value': {0: 248, 1: 177},\n",
       " 'boring': {0: 1166, 1: 260},\n",
       " 'pseudo': {0: 82, 1: 30},\n",
       " 'revolutionary': {0: 36, 1: 58},\n",
       " 'spewings..but': {0: 1, 1: 0},\n",
       " 'weren': {0: 328, 1: 163},\n",
       " 'censorship': {0: 10, 1: 25},\n",
       " 'scandal': {0: 11, 1: 20},\n",
       " 'ignored': {0: 49, 1: 55},\n",
       " 'forgotten.': {0: 27, 1: 37},\n",
       " 'instead': {0: 1297, 1: 670},\n",
       " 'blank': {0: 78, 1: 36},\n",
       " 'rhythymed': {0: 1, 1: 0},\n",
       " 'title': {0: 750, 1: 619},\n",
       " 'repeated': {0: 102, 1: 91},\n",
       " 'endlessly': {0: 31, 1: 22},\n",
       " 'titilation': {0: 2, 1: 0},\n",
       " 'porno': {0: 79, 1: 11},\n",
       " 'lavender': {0: 1, 1: 8},\n",
       " 'gay': {0: 357, 1: 212},\n",
       " 'black': {0: 1012, 1: 975},\n",
       " 'blaxploitation': {0: 17, 1: 14},\n",
       " 'etc..': {0: 12, 1: 9},\n",
       " 'every': {0: 2021, 1: 1951},\n",
       " 'ten': {0: 420, 1: 347},\n",
       " 'rises': {0: 42, 1: 33},\n",
       " 'dead': {0: 1008, 1: 698},\n",
       " 'viewed': {0: 80, 1: 120},\n",
       " 'generation': {0: 77, 1: 121},\n",
       " 'suckers': {0: 11, 1: 1},\n",
       " 'want': {0: 2121, 1: 1534},\n",
       " 'naughty': {0: 55, 1: 16},\n",
       " 'revolutionized': {0: 2, 1: 3},\n",
       " 'industry': {0: 150, 1: 127},\n",
       " '...': {0: 441, 1: 334},\n",
       " 'yeesh': {0: 1, 1: 0},\n",
       " 'plague..or': {0: 1, 1: 0},\n",
       " 'must': {0: 1516, 1: 1709},\n",
       " 'rent': {0: 470, 1: 230},\n",
       " 'fast': {0: 440, 1: 385},\n",
       " 'forward': {0: 349, 1: 256},\n",
       " 'dirty': {0: 115, 1: 207},\n",
       " 'parts': {0: 491, 1: 568},\n",
       " 'over': {0: 3151, 1: 2891},\n",
       " 'with.': {0: 230, 1: 171},\n",
       " 'put': {0: 1259, 1: 1115},\n",
       " 'top': {0: 726, 1: 1003},\n",
       " 'list': {0: 272, 1: 219},\n",
       " 'category': {0: 87, 1: 56},\n",
       " 'unwatchable': {0: 55, 1: 3},\n",
       " 'trash': {0: 275, 1: 110},\n",
       " 'bad': {0: 6461, 1: 1752},\n",
       " 'worst': {0: 2378, 1: 233},\n",
       " 'kind': {0: 1490, 1: 1192},\n",
       " 'ones': {0: 369, 1: 419},\n",
       " 'suppose': {0: 246, 1: 123},\n",
       " 'them': {0: 3307, 1: 3095},\n",
       " 'supposed': {0: 1186, 1: 330},\n",
       " 'sequences': {0: 296, 1: 340},\n",
       " 'day': {0: 929, 1: 1360},\n",
       " 'couldn': {0: 1041, 1: 457},\n",
       " 'arouse': {0: 6, 1: 5},\n",
       " 'rabbit.': {0: 2, 1: 7},\n",
       " 'called': {0: 790, 1: 631},\n",
       " 'strictly': {0: 80, 1: 49},\n",
       " 'high': {0: 1044, 1: 1058},\n",
       " 'school': {0: 786, 1: 691},\n",
       " 'sophomore': {0: 5, 1: 11},\n",
       " 'amateur': {0: 159, 1: 41},\n",
       " 'night': {0: 960, 1: 950},\n",
       " 'marxism.': {0: 2, 1: 0},\n",
       " 'self': {0: 599, 1: 550},\n",
       " 'consciously': {0: 17, 1: 9},\n",
       " 'arty': {0: 42, 1: 8},\n",
       " 'sense': {0: 1041, 1: 943},\n",
       " 'term.': {0: 8, 1: 5},\n",
       " 'photography': {0: 145, 1: 217},\n",
       " 'harsh': {0: 76, 1: 116},\n",
       " 'grainy': {0: 39, 1: 29},\n",
       " 'white.': {0: 25, 1: 33},\n",
       " 'wrong': {0: 872, 1: 540},\n",
       " 'angle.': {0: 10, 1: 18},\n",
       " 'sound': {0: 714, 1: 543},\n",
       " 'call': {0: 566, 1: 342},\n",
       " 'art': {0: 501, 1: 634},\n",
       " 'whoever': {0: 129, 1: 70},\n",
       " 'wrote': {0: 324, 1: 237},\n",
       " 'screenplay': {0: 308, 1: 299},\n",
       " 'obviously': {0: 718, 1: 428},\n",
       " 'never': {0: 3247, 1: 3216},\n",
       " 'consulted': {0: 4, 1: 3},\n",
       " 'books': {0: 194, 1: 240},\n",
       " 'lucille': {0: 22, 1: 30},\n",
       " 'ball': {0: 115, 1: 131},\n",
       " 'especially': {0: 952, 1: 1551},\n",
       " 'autobiography.': {0: 3, 1: 2},\n",
       " 'mistakes': {0: 101, 1: 70},\n",
       " 'biopic': {0: 10, 1: 32},\n",
       " 'ranging': {0: 18, 1: 18},\n",
       " 'celoron': {0: 1, 1: 0},\n",
       " 'jamestown': {0: 4, 1: 0},\n",
       " 'later': {0: 791, 1: 1201},\n",
       " 'desi.': {0: 1, 1: 3},\n",
       " 'write': {0: 444, 1: 206},\n",
       " 'whole': {0: 1744, 1: 1274},\n",
       " 'factual': {0: 26, 1: 22},\n",
       " 'errors': {0: 68, 1: 27},\n",
       " 'go': {0: 2609, 1: 2339},\n",
       " 'pages.': {0: 5, 1: 3},\n",
       " 'believe': {0: 1403, 1: 1037},\n",
       " 'inimitable': {0: 4, 1: 11},\n",
       " 'simply': {0: 1123, 1: 828},\n",
       " 'portrayed': {0: 234, 1: 317},\n",
       " 'other': {0: 4173, 1: 4589},\n",
       " 'themselves.': {0: 107, 1: 120},\n",
       " 'lucie': {0: 1, 1: 0},\n",
       " 'arnaz': {0: 3, 1: 2},\n",
       " 'desi': {0: 7, 1: 17},\n",
       " 'jr.': {0: 86, 1: 152},\n",
       " 'irate': {0: 3, 1: 3},\n",
       " 'how': {0: 4656, 1: 4174},\n",
       " 'film.': {0: 2619, 1: 2631},\n",
       " 'hard': {0: 1322, 1: 1256},\n",
       " 'seems': {0: 2011, 1: 1560},\n",
       " 'awfully': {0: 62, 1: 22},\n",
       " 'sloppy': {0: 77, 1: 27},\n",
       " 'me.': {0: 712, 1: 627},\n",
       " 'saw': {0: 1441, 1: 1670},\n",
       " 'glimpse': {0: 50, 1: 98},\n",
       " 'quickly': {0: 284, 1: 281},\n",
       " 'noticed': {0: 114, 1: 141},\n",
       " 'playing': {0: 750, 1: 842},\n",
       " 'role': {0: 1008, 1: 1666},\n",
       " 'ball.': {0: 19, 1: 24},\n",
       " 'rachel': {0: 77, 1: 111},\n",
       " 'york': {0: 267, 1: 459},\n",
       " 'portrayal': {0: 126, 1: 347},\n",
       " 'lucy': {0: 44, 1: 105},\n",
       " 'absolutely': {0: 839, 1: 639},\n",
       " 'awful.': {0: 357, 1: 16},\n",
       " 'astounding': {0: 14, 1: 30},\n",
       " 'comedian': {0: 77, 1: 60},\n",
       " 'incredible': {0: 146, 1: 367},\n",
       " 'talent.': {0: 82, 1: 64},\n",
       " 'legend': {0: 115, 1: 148},\n",
       " 'way': {0: 3494, 1: 3552},\n",
       " 'horrendous.': {0: 21, 1: 2},\n",
       " 'world': {0: 1218, 1: 2062},\n",
       " 'play': {0: 907, 1: 1152},\n",
       " 'producers': {0: 320, 1: 149},\n",
       " 'decided': {0: 419, 1: 286},\n",
       " 'york.': {0: 30, 1: 52},\n",
       " 'roles': {0: 316, 1: 531},\n",
       " 'tough.': {0: 5, 1: 7},\n",
       " 'pretty': {0: 2094, 1: 1537},\n",
       " 'someone': {0: 1462, 1: 831},\n",
       " 'resemble': {0: 45, 1: 35},\n",
       " 'least': {0: 1944, 1: 1056},\n",
       " 'bit': {0: 1230, 1: 1693},\n",
       " 'similar': {0: 352, 1: 479},\n",
       " 'looks': {0: 1509, 1: 872},\n",
       " 'episodes': {0: 254, 1: 576},\n",
       " 'love': {0: 2034, 1: 4059},\n",
       " 'chocolate': {0: 19, 1: 14},\n",
       " 'factory': {0: 45, 1: 72},\n",
       " 'vitavetavegamin': {0: 1, 1: 0},\n",
       " 'nothing': {0: 2802, 1: 1231},\n",
       " 'expression': {0: 77, 1: 73},\n",
       " 'voice': {0: 492, 1: 579},\n",
       " 'movement.': {0: 13, 1: 9},\n",
       " 'off': {0: 3213, 1: 2297},\n",
       " 'danny': {0: 90, 1: 234},\n",
       " 'pino': {0: 10, 1: 9},\n",
       " 'horrible.': {0: 178, 1: 7},\n",
       " 'qualify': {0: 31, 1: 14},\n",
       " 'ricky.': {0: 2, 1: 0},\n",
       " 'he': {0: 13785, 1: 16203},\n",
       " 'small': {0: 651, 1: 974},\n",
       " 'skinny': {0: 33, 1: 20},\n",
       " 'accent': {0: 237, 1: 143},\n",
       " 'unreal': {0: 40, 1: 25},\n",
       " 'once': {0: 967, 1: 1218},\n",
       " 'again': {0: 1344, 1: 1645},\n",
       " 'unbelievable.': {0: 77, 1: 29},\n",
       " 'fred': {0: 143, 1: 159},\n",
       " 'ethel': {0: 25, 1: 4},\n",
       " 'either': {0: 849, 1: 551},\n",
       " 'characters': {0: 3221, 1: 3155},\n",
       " 'overall': {0: 581, 1: 795},\n",
       " 'extremely': {0: 561, 1: 505},\n",
       " 'horrible': {0: 857, 1: 148},\n",
       " 'casting': {0: 290, 1: 280},\n",
       " 'story': {0: 4579, 1: 6061},\n",
       " 'badly': {0: 520, 1: 88},\n",
       " 'told.': {0: 18, 1: 34},\n",
       " 'understand': {0: 785, 1: 762},\n",
       " 'real': {0: 2104, 1: 2421},\n",
       " 'life': {0: 1935, 1: 3423},\n",
       " 'situation': {0: 237, 1: 313},\n",
       " 'suggest': {0: 192, 1: 176},\n",
       " 'watching': {0: 2513, 1: 1807},\n",
       " 'e': {0: 71, 1: 78},\n",
       " 'biography': {0: 29, 1: 47},\n",
       " 'read': {0: 1068, 1: 862},\n",
       " 'book': {0: 1072, 1: 1005},\n",
       " 'herself': {0: 286, 1: 418},\n",
       " 'pbs': {0: 14, 1: 15},\n",
       " 'masters': {0: 50, 1: 49},\n",
       " 'finding': {0: 134, 1: 221},\n",
       " 'lucy.': {0: 2, 1: 7},\n",
       " 'docudrama': {0: 6, 1: 10},\n",
       " 'laughter': {0: 94, 1: 102},\n",
       " 'choice.': {0: 26, 1: 40},\n",
       " 'compared': {0: 260, 1: 268},\n",
       " 'this.': {0: 865, 1: 468},\n",
       " 'aspect': {0: 196, 1: 225},\n",
       " 'nothing.': {0: 157, 1: 61},\n",
       " 'these': {0: 2697, 1: 2672},\n",
       " 'actors': {0: 2216, 1: 1853},\n",
       " 'certainly': {0: 631, 1: 820},\n",
       " 'audience': {0: 985, 1: 837},\n",
       " 'among': {0: 293, 1: 488},\n",
       " 'air': {0: 281, 1: 274},\n",
       " 'puffed': {0: 4, 1: 1},\n",
       " 'productions': {0: 71, 1: 76},\n",
       " 'existence.': {0: 37, 1: 31},\n",
       " 'lot': {0: 1806, 1: 1996},\n",
       " 'fun': {0: 864, 1: 1406},\n",
       " 'shoot\\x97': {0: 1, 1: 0},\n",
       " 'nobody': {0: 264, 1: 175},\n",
       " 'getting': {0: 909, 1: 709},\n",
       " 'actual': {0: 436, 1: 354},\n",
       " 'work': {0: 1662, 1: 1993},\n",
       " 'done': {0: 1362, 1: 1359},\n",
       " 'almost': {0: 1561, 1: 1558},\n",
       " 'always': {0: 1140, 1: 2044},\n",
       " 'makes': {0: 1807, 1: 2385},\n",
       " 'watch.': {0: 318, 1: 359},\n",
       " 'ritter': {0: 23, 1: 105},\n",
       " 'dons': {0: 5, 1: 5},\n",
       " 'glasses': {0: 42, 1: 30},\n",
       " 'hammer': {0: 56, 1: 51},\n",
       " 'home': {0: 765, 1: 893},\n",
       " 'character': {0: 3242, 1: 3218},\n",
       " 'status': {0: 65, 1: 85},\n",
       " 'doppleganger': {0: 1, 1: 0},\n",
       " 'bespectacled': {0: 2, 1: 2},\n",
       " 'bogdanovich': {0: 23, 1: 15},\n",
       " 'breezy': {0: 8, 1: 17},\n",
       " 'ms.': {0: 152, 1: 140},\n",
       " 'stratten': {0: 18, 1: 7},\n",
       " 'sweet': {0: 144, 1: 393},\n",
       " 'embarrassing': {0: 156, 1: 30},\n",
       " 'look': {0: 2204, 1: 1804},\n",
       " 'guys': {0: 691, 1: 494},\n",
       " 'm': {0: 2981, 1: 1931},\n",
       " 'dating': {0: 57, 1: 44},\n",
       " 'prom': {0: 100, 1: 8},\n",
       " 'queen': {0: 131, 1: 194},\n",
       " 'them.': {0: 829, 1: 679},\n",
       " 'ben': {0: 283, 1: 323},\n",
       " 'gazzara': {0: 6, 1: 19},\n",
       " 'sports': {0: 69, 1: 142},\n",
       " 'usual': {0: 415, 1: 501},\n",
       " 'cat': {0: 274, 1: 229},\n",
       " 'canary': {0: 2, 1: 5},\n",
       " 'grin': {0: 16, 1: 19},\n",
       " 'futile': {0: 15, 1: 7},\n",
       " 'attempt': {0: 715, 1: 298},\n",
       " 'elevate': {0: 20, 1: 13},\n",
       " 'meager': {0: 8, 1: 8},\n",
       " 'requires': {0: 61, 1: 65},\n",
       " 'him': {0: 3253, 1: 4217},\n",
       " 'pursue': {0: 20, 1: 36},\n",
       " 'audrey': {0: 34, 1: 31},\n",
       " 'hepburn': {0: 39, 1: 21},\n",
       " 'interest': {0: 459, 1: 404},\n",
       " 'narcoleptic': {0: 2, 1: 0},\n",
       " 'insomnia': {0: 28, 1: 10},\n",
       " 'clinic.': {0: 8, 1: 1},\n",
       " 'meantime': {0: 23, 1: 29},\n",
       " 'budding': {0: 16, 1: 24},\n",
       " 'couple': {0: 881, 1: 778},\n",
       " 'respective': {0: 26, 1: 47},\n",
       " 'children': {0: 598, 1: 715},\n",
       " 'nepotism': {0: 14, 1: 0},\n",
       " 'alert': {0: 53, 1: 39},\n",
       " 'daughters': {0: 39, 1: 115},\n",
       " 'spew': {0: 10, 1: 2},\n",
       " 'cute': {0: 245, 1: 275},\n",
       " 'pick': {0: 226, 1: 216},\n",
       " 'fairly': {0: 294, 1: 289},\n",
       " 'disturbing': {0: 183, 1: 226},\n",
       " 'pointers': {0: 1, 1: 2},\n",
       " 'observing': {0: 15, 1: 14},\n",
       " 'parents.': {0: 23, 1: 43},\n",
       " 'drawing': {0: 50, 1: 59},\n",
       " 'dignity': {0: 43, 1: 48},\n",
       " 'manages': {0: 246, 1: 335},\n",
       " 'rise': {0: 107, 1: 118},\n",
       " 'above': {0: 343, 1: 427},\n",
       " 'proceedings': {0: 40, 1: 32},\n",
       " 'monumental': {0: 10, 1: 20},\n",
       " 'challenge': {0: 55, 1: 93},\n",
       " 'ostensibly.': {0: 1, 1: 0},\n",
       " 'everybody': {0: 175, 1: 207},\n",
       " 'great': {0: 2486, 1: 6054},\n",
       " 'expect': {0: 566, 1: 521},\n",
       " 'looking': {0: 1393, 1: 1035},\n",
       " 'd': {0: 1662, 1: 1142},\n",
       " 'picking': {0: 67, 1: 54},\n",
       " 'copy': {0: 241, 1: 286},\n",
       " 'vogue.': {0: 1, 1: 2},\n",
       " 'mentioned': {0: 265, 1: 260},\n",
       " 'colleen': {0: 10, 1: 8},\n",
       " 'camp': {0: 203, 1: 208},\n",
       " 'thoroughly': {0: 128, 1: 213},\n",
       " 'annoys': {0: 22, 1: 6},\n",
       " 'singing': {0: 179, 1: 304},\n",
       " 'competent': {0: 80, 1: 48},\n",
       " 'wholly': {0: 42, 1: 40},\n",
       " 'unconvincing...': {0: 1, 1: 0},\n",
       " 'western': {0: 229, 1: 330},\n",
       " 'numbers': {0: 170, 1: 175},\n",
       " 'woefully': {0: 32, 1: 9},\n",
       " 'mismatched': {0: 16, 1: 12},\n",
       " 'standards': {0: 134, 1: 130},\n",
       " 'soundtrack.': {0: 43, 1: 62},\n",
       " 'surely': {0: 230, 1: 184},\n",
       " 'gershwin': {0: 7, 1: 43},\n",
       " 'song': {0: 361, 1: 545},\n",
       " 'derived': {0: 19, 1: 20},\n",
       " 'stage': {0: 266, 1: 374},\n",
       " 'musicals': {0: 33, 1: 113},\n",
       " '20': {0: 394, 1: 291},\n",
       " 'may': {0: 1388, 1: 1988},\n",
       " 'slight': {0: 58, 1: 76},\n",
       " 'long': {0: 1608, 1: 1583},\n",
       " 'charm.': {0: 17, 1: 54},\n",
       " 'laughed': {0: 187, 1: 160},\n",
       " 'tries': {0: 786, 1: 483},\n",
       " 'coast': {0: 37, 1: 35},\n",
       " 'intentions': {0: 94, 1: 41},\n",
       " 'peter': {0: 314, 1: 449},\n",
       " 'brakes.': {0: 1, 1: 0},\n",
       " 'due': {0: 415, 1: 477},\n",
       " 'part': {0: 1803, 1: 1959},\n",
       " 'tragic': {0: 79, 1: 246},\n",
       " 'death': {0: 779, 1: 845},\n",
       " 'dorothy': {0: 56, 1: 82},\n",
       " 'special': {0: 1031, 1: 954},\n",
       " 'place': {0: 971, 1: 1076},\n",
       " 'heart': {0: 328, 1: 815},\n",
       " 'mr.': {0: 431, 1: 651},\n",
       " 'bought': {0: 234, 1: 218},\n",
       " 'back': {0: 2177, 1: 2423},\n",
       " 'distributed': {0: 20, 1: 18},\n",
       " 'own': {0: 1248, 1: 1863},\n",
       " 'went': {0: 786, 1: 660},\n",
       " 'bankrupt': {0: 9, 1: 5},\n",
       " 'didn': {0: 2656, 1: 1674},\n",
       " 'prove': {0: 143, 1: 119},\n",
       " 'popular.': {0: 16, 1: 12},\n",
       " 'fall': {0: 367, 1: 388},\n",
       " 'more': {0: 6494, 1: 7177},\n",
       " 'sympathetic': {0: 75, 1: 133},\n",
       " 'hollywood': {0: 784, 1: 971},\n",
       " 'stories': {0: 431, 1: 611},\n",
       " 'joy': {0: 69, 1: 190},\n",
       " 'criticizing': {0: 12, 1: 12},\n",
       " 'film...': {0: 36, 1: 28},\n",
       " 'emotional': {0: 209, 1: 439},\n",
       " 'investment': {0: 22, 1: 12},\n",
       " 'scenes.': {0: 294, 1: 255},\n",
       " 'faint': {0: 18, 1: 24},\n",
       " 'echo': {0: 20, 1: 17},\n",
       " 'last': {0: 1366, 1: 1509},\n",
       " 'picture': {0: 535, 1: 687},\n",
       " 'show': {0: 2543, 1: 3029},\n",
       " 'paper': {0: 140, 1: 52},\n",
       " 'moon': {0: 141, 1: 130},\n",
       " 'doc': {0: 57, 1: 72},\n",
       " 'following': {0: 248, 1: 286},\n",
       " 'daisy': {0: 35, 1: 18},\n",
       " 'miller': {0: 66, 1: 92},\n",
       " 'thundering': {0: 1, 1: 3},\n",
       " 'confirmation': {0: 5, 1: 2},\n",
       " 'phase': {0: 17, 1: 30},\n",
       " 'p.b.': {0: 1, 1: 1},\n",
       " 'emerged.': {0: 1, 1: 1},\n",
       " 'though': {0: 1854, 1: 2305},\n",
       " 'harmless': {0: 35, 1: 31},\n",
       " 'waste': {0: 1322, 1: 95},\n",
       " 'rental.': {0: 24, 1: 12},\n",
       " 'watch': {0: 3214, 1: 3047},\n",
       " 'having': {0: 1276, 1: 1259},\n",
       " 'll': {0: 1572, 1: 1327},\n",
       " 'park': {0: 167, 1: 160},\n",
       " 'sunny': {0: 37, 1: 39},\n",
       " 'day.': {0: 192, 1: 244},\n",
       " 'filmic': {0: 17, 1: 9},\n",
       " 'expressions': {0: 45, 1: 84},\n",
       " 'stick': {0: 300, 1: 144},\n",
       " 'ernest': {0: 15, 1: 29},\n",
       " 'lubitsch': {0: 10, 1: 30},\n",
       " 'jaques': {0: 1, 1: 3},\n",
       " 'demy...': {0: 1, 1: 0},\n",
       " 'personal': {0: 212, 1: 408},\n",
       " 'bogdonavitch.': {0: 1, 1: 0},\n",
       " 'based': {0: 644, 1: 770},\n",
       " 'changed': {0: 202, 1: 240},\n",
       " 'things': {0: 1720, 1: 1729},\n",
       " 'fit': {0: 216, 1: 246},\n",
       " 'detectives.': {0: 3, 1: 3},\n",
       " 'detectives': {0: 32, 1: 27},\n",
       " 'date': {0: 171, 1: 180},\n",
       " 'beautiful': {0: 559, 1: 1465},\n",
       " 'models': {0: 53, 1: 36},\n",
       " 'problem': {0: 840, 1: 462},\n",
       " 'sounds': {0: 358, 1: 259},\n",
       " 'millionaire': {0: 26, 1: 46},\n",
       " 'playboy': {0: 29, 1: 27},\n",
       " 'filmmaker': {0: 160, 1: 133},\n",
       " 'detective': {0: 161, 1: 265},\n",
       " 'entire': {0: 869, 1: 592},\n",
       " 'written': {0: 773, 1: 742},\n",
       " 'touch': {0: 158, 1: 267},\n",
       " 'was.': {0: 268, 1: 186},\n",
       " 'know': {0: 3175, 1: 2719},\n",
       " 'indeed.': {0: 33, 1: 46},\n",
       " 'leaves': {0: 300, 1: 363},\n",
       " 'bored': {0: 356, 1: 116},\n",
       " 'confused': {0: 196, 1: 146},\n",
       " 'jealous': {0: 37, 1: 73},\n",
       " 'matter.': {0: 61, 1: 78},\n",
       " 'curio': {0: 8, 1: 3},\n",
       " 'murdered': {0: 137, 1: 95},\n",
       " 'right': {0: 1453, 1: 1531},\n",
       " 'after': {0: 3795, 1: 3746},\n",
       " 'filming.': {0: 26, 1: 13},\n",
       " 'patti': {0: 7, 1: 6},\n",
       " 'hanson': {0: 6, 1: 18},\n",
       " 'marry': {0: 82, 1: 132},\n",
       " 'keith': {0: 37, 1: 47},\n",
       " 'richards': {0: 37, 1: 49},\n",
       " 'model': {0: 119, 1: 109},\n",
       " 'ample': {0: 27, 1: 21},\n",
       " 'part.': {0: 121, 1: 138},\n",
       " 'seemed': {0: 855, 1: 504},\n",
       " 'forced': {0: 351, 1: 269},\n",
       " 'added.': {0: 4, 1: 5},\n",
       " 'convoluted': {0: 70, 1: 43},\n",
       " 'begin': {0: 351, 1: 285},\n",
       " 'somebody': {0: 208, 1: 84},\n",
       " 'very': {0: 5747, 1: 8288},\n",
       " 'relate': {0: 69, 1: 158},\n",
       " 'manhattan': {0: 37, 1: 75},\n",
       " 'supermodels': {0: 4, 1: 2},\n",
       " 'your': {0: 3231, 1: 2452},\n",
       " 'beckon': {0: 2, 1: 2},\n",
       " 'call.': {0: 3, 1: 12},\n",
       " 'rest': {0: 982, 1: 740},\n",
       " 'us': {0: 1521, 1: 2024},\n",
       " 'irritating': {0: 152, 1: 44},\n",
       " 'snore': {0: 11, 1: 5},\n",
       " 'fest.': {0: 31, 1: 8},\n",
       " 'happens': {0: 557, 1: 405},\n",
       " 'touch.': {0: 10, 1: 34},\n",
       " 'entertain': {0: 75, 1: 73},\n",
       " 'friends': {0: 728, 1: 844},\n",
       " 'inside': {0: 246, 1: 303},\n",
       " 'jokes': {0: 528, 1: 324},\n",
       " 'bore': {0: 107, 1: 42},\n",
       " 'rest.': {0: 35, 1: 38},\n",
       " 'favorite': {0: 261, 1: 924},\n",
       " 'stars': {0: 699, 1: 750},\n",
       " '30': {0: 362, 1: 242},\n",
       " 'including': {0: 418, 1: 625},\n",
       " 'gazarra': {0: 4, 1: 2},\n",
       " 'hepburn.': {0: 5, 1: 5},\n",
       " 'looked': {0: 665, 1: 337},\n",
       " 'quite': {0: 1589, 1: 2137},\n",
       " 'wonderful.': {0: 18, 1: 134},\n",
       " 'it.': {0: 3385, 1: 3089},\n",
       " 'given': {0: 954, 1: 852},\n",
       " 'lines': {0: 818, 1: 566},\n",
       " 'neither': {0: 320, 1: 184},\n",
       " 'understood': {0: 67, 1: 96},\n",
       " 'cared': {0: 67, 1: 47},\n",
       " 'doing.': {0: 51, 1: 33},\n",
       " 'smaller': {0: 39, 1: 65},\n",
       " 'fine': {0: 407, 1: 796},\n",
       " 'patty': {0: 22, 1: 20},\n",
       " 'henson': {0: 9, 1: 12},\n",
       " 'confident': {0: 21, 1: 46},\n",
       " 'sidekick': {0: 45, 1: 47},\n",
       " 'parts.': {0: 51, 1: 73},\n",
       " 'showed': {0: 211, 1: 271},\n",
       " 'talent': {0: 428, 1: 353},\n",
       " 'sad': {0: 429, 1: 453},\n",
       " 'star': {0: 856, 1: 1069},\n",
       " 'sadly': {0: 357, 1: 205},\n",
       " 'chance': {0: 380, 1: 540},\n",
       " 'act': {0: 615, 1: 461},\n",
       " 'role.': {0: 205, 1: 292},\n",
       " 'fans': {0: 559, 1: 681},\n",
       " 'open': {0: 312, 1: 323},\n",
       " 'minded': {0: 86, 1: 69},\n",
       " 'started': {0: 514, 1: 396},\n",
       " 'big': {0: 1648, 1: 1801},\n",
       " 'enjoyed': {0: 355, 1: 860},\n",
       " 'meow': {0: 6, 1: 0},\n",
       " 'targets': {0: 26, 1: 19},\n",
       " 'nickleodeon': {0: 1, 1: 0},\n",
       " 'surprised': {0: 290, 1: 436},\n",
       " 'barely': {0: 326, 1: 145},\n",
       " 'able': {0: 528, 1: 722},\n",
       " 'keep': {0: 769, 1: 830},\n",
       " 'awake': {0: 61, 1: 17},\n",
       " 'one.': {0: 815, 1: 566},\n",
       " 'ironic': {0: 62, 1: 91},\n",
       " 'agency': {0: 27, 1: 35},\n",
       " 'clients': {0: 9, 1: 8},\n",
       " 'romantically': {0: 4, 1: 12},\n",
       " 'involved': {0: 504, 1: 447},\n",
       " 'each': {0: 943, 1: 1619},\n",
       " 'other.': {0: 127, 1: 258},\n",
       " 'five': {0: 521, 1: 395},\n",
       " 'ex': {0: 219, 1: 238},\n",
       " ...}"
      ]
     },
     "execution_count": 19,
     "metadata": {},
     "output_type": "execute_result"
    }
   ],
   "source": [
    "def build_vocabulary_string(V, str, category, C):\n",
    "    for word in str.split():\n",
    "        if not (word in V) :\n",
    "            V[word] = {}\n",
    "            for c in C:\n",
    "                V[word][c] = 0\n",
    "        V[word][category] += 1\n",
    "    return V\n",
    "\n",
    "def build_vocabulary(dataset, C):\n",
    "    V = {}\n",
    "    for document in dataset:\n",
    "        V = build_vocabulary_string(V, document[\"text\"], document[\"label\"], C)\n",
    "    return V\n",
    "build_vocabulary(updated_dataset[\"train\"], {0, 1})"
   ]
  },
  {
   "cell_type": "code",
   "execution_count": 20,
   "metadata": {},
   "outputs": [],
   "source": [
    "import math\n",
    "def train_naive_bayes(D,C): #C : positif/negatif\n",
    "    logprior = {}\n",
    "    loglikelihood = {}\n",
    "    Ndoc = len(D)\n",
    "    Vocabulary = build_vocabulary(D, C) #bigdoc is useless\n",
    "    for word in Vocabulary:\n",
    "        loglikelihood[word] = {}\n",
    "    for c in C:\n",
    "        Nc = 0\n",
    "        for document in D:\n",
    "            if document[\"label\"] == c :\n",
    "                Nc += 1\n",
    "        logprior[c] = math.log(Nc / Ndoc)\n",
    "        word_number = 0\n",
    "        for word in Vocabulary:\n",
    "            word_number += Vocabulary[word][c] + 1\n",
    "        for word in Vocabulary:\n",
    "            loglikelihood[word][c] = math.log((Vocabulary[word][c] + 1)/word_number)\n",
    "    return logprior, loglikelihood, Vocabulary"
   ]
  },
  {
   "cell_type": "code",
   "execution_count": 21,
   "metadata": {},
   "outputs": [],
   "source": [
    "(logprior, loglikelihood, Voc) = train_naive_bayes(updated_dataset[\"train\"], {0, 1})"
   ]
  },
  {
   "cell_type": "code",
   "execution_count": 22,
   "metadata": {},
   "outputs": [],
   "source": [
    "def test_naive_bayes(testdoc, logprior, loglikelihood, C, V) :\n",
    "    sum = {}\n",
    "    for c in C:\n",
    "        sum[c] = logprior[c]\n",
    "        for word in testdoc.split():\n",
    "            if word in V:\n",
    "                sum[c] += loglikelihood[word][c]\n",
    "    return max(sum, key=sum.get)"
   ]
  },
  {
   "attachments": {},
   "cell_type": "markdown",
   "metadata": {},
   "source": [
    "3- Naive Bayes classifier using scikit-learn"
   ]
  },
  {
   "cell_type": "code",
   "execution_count": 23,
   "metadata": {},
   "outputs": [],
   "source": [
    "import sklearn\n",
    "from sklearn.pipeline import Pipeline"
   ]
  },
  {
   "cell_type": "code",
   "execution_count": 24,
   "metadata": {},
   "outputs": [],
   "source": [
    "from sklearn.base import BaseEstimator, TransformerMixin"
   ]
  },
  {
   "cell_type": "code",
   "execution_count": 25,
   "metadata": {},
   "outputs": [],
   "source": [
    "class PreProcessing(BaseEstimator, TransformerMixin):\n",
    "    def __init__(self):\n",
    "        return\n",
    "    def fit(self, X, y=None):\n",
    "        # fit should only take X and y as parameters\n",
    "        # Even if your model is unsupervised, you need to accept a y argument!\n",
    "        # Model fitting code goes here\n",
    "        # fit returns self\n",
    "        return self\n",
    "    def transform(self, X):\n",
    "        # transform takes as parameter only X\n",
    "        # Apply some transformation to X\n",
    "        X_transformed = X.map(preprocess)\n",
    "        return X_transformed[\"text\"]"
   ]
  },
  {
   "cell_type": "code",
   "execution_count": 26,
   "metadata": {},
   "outputs": [],
   "source": [
    "from sklearn.naive_bayes import MultinomialNB\n",
    "from sklearn.feature_extraction.text import CountVectorizer\n",
    "pipe = Pipeline([(\"PreProcessing\", PreProcessing()), (\"CountVectorization\", CountVectorizer()), (\"Naive Bayes Classifier\", MultinomialNB())])"
   ]
  },
  {
   "cell_type": "code",
   "execution_count": 27,
   "metadata": {},
   "outputs": [
    {
     "name": "stderr",
     "output_type": "stream",
     "text": [
      "Loading cached processed dataset at /home/amine/.cache/huggingface/datasets/imdb/plain_text/1.0.0/d613c88cf8fa3bab83b4ded3713f1f74830d1100e171db75bbddb80b3345c9c0/cache-b28e1aeaa9fa126a.arrow\n"
     ]
    },
    {
     "data": {
      "text/html": [
       "<style>#sk-container-id-1 {color: black;background-color: white;}#sk-container-id-1 pre{padding: 0;}#sk-container-id-1 div.sk-toggleable {background-color: white;}#sk-container-id-1 label.sk-toggleable__label {cursor: pointer;display: block;width: 100%;margin-bottom: 0;padding: 0.3em;box-sizing: border-box;text-align: center;}#sk-container-id-1 label.sk-toggleable__label-arrow:before {content: \"▸\";float: left;margin-right: 0.25em;color: #696969;}#sk-container-id-1 label.sk-toggleable__label-arrow:hover:before {color: black;}#sk-container-id-1 div.sk-estimator:hover label.sk-toggleable__label-arrow:before {color: black;}#sk-container-id-1 div.sk-toggleable__content {max-height: 0;max-width: 0;overflow: hidden;text-align: left;background-color: #f0f8ff;}#sk-container-id-1 div.sk-toggleable__content pre {margin: 0.2em;color: black;border-radius: 0.25em;background-color: #f0f8ff;}#sk-container-id-1 input.sk-toggleable__control:checked~div.sk-toggleable__content {max-height: 200px;max-width: 100%;overflow: auto;}#sk-container-id-1 input.sk-toggleable__control:checked~label.sk-toggleable__label-arrow:before {content: \"▾\";}#sk-container-id-1 div.sk-estimator input.sk-toggleable__control:checked~label.sk-toggleable__label {background-color: #d4ebff;}#sk-container-id-1 div.sk-label input.sk-toggleable__control:checked~label.sk-toggleable__label {background-color: #d4ebff;}#sk-container-id-1 input.sk-hidden--visually {border: 0;clip: rect(1px 1px 1px 1px);clip: rect(1px, 1px, 1px, 1px);height: 1px;margin: -1px;overflow: hidden;padding: 0;position: absolute;width: 1px;}#sk-container-id-1 div.sk-estimator {font-family: monospace;background-color: #f0f8ff;border: 1px dotted black;border-radius: 0.25em;box-sizing: border-box;margin-bottom: 0.5em;}#sk-container-id-1 div.sk-estimator:hover {background-color: #d4ebff;}#sk-container-id-1 div.sk-parallel-item::after {content: \"\";width: 100%;border-bottom: 1px solid gray;flex-grow: 1;}#sk-container-id-1 div.sk-label:hover label.sk-toggleable__label {background-color: #d4ebff;}#sk-container-id-1 div.sk-serial::before {content: \"\";position: absolute;border-left: 1px solid gray;box-sizing: border-box;top: 0;bottom: 0;left: 50%;z-index: 0;}#sk-container-id-1 div.sk-serial {display: flex;flex-direction: column;align-items: center;background-color: white;padding-right: 0.2em;padding-left: 0.2em;position: relative;}#sk-container-id-1 div.sk-item {position: relative;z-index: 1;}#sk-container-id-1 div.sk-parallel {display: flex;align-items: stretch;justify-content: center;background-color: white;position: relative;}#sk-container-id-1 div.sk-item::before, #sk-container-id-1 div.sk-parallel-item::before {content: \"\";position: absolute;border-left: 1px solid gray;box-sizing: border-box;top: 0;bottom: 0;left: 50%;z-index: -1;}#sk-container-id-1 div.sk-parallel-item {display: flex;flex-direction: column;z-index: 1;position: relative;background-color: white;}#sk-container-id-1 div.sk-parallel-item:first-child::after {align-self: flex-end;width: 50%;}#sk-container-id-1 div.sk-parallel-item:last-child::after {align-self: flex-start;width: 50%;}#sk-container-id-1 div.sk-parallel-item:only-child::after {width: 0;}#sk-container-id-1 div.sk-dashed-wrapped {border: 1px dashed gray;margin: 0 0.4em 0.5em 0.4em;box-sizing: border-box;padding-bottom: 0.4em;background-color: white;}#sk-container-id-1 div.sk-label label {font-family: monospace;font-weight: bold;display: inline-block;line-height: 1.2em;}#sk-container-id-1 div.sk-label-container {text-align: center;}#sk-container-id-1 div.sk-container {/* jupyter's `normalize.less` sets `[hidden] { display: none; }` but bootstrap.min.css set `[hidden] { display: none !important; }` so we also need the `!important` here to be able to override the default hidden behavior on the sphinx rendered scikit-learn.org. See: https://github.com/scikit-learn/scikit-learn/issues/21755 */display: inline-block !important;position: relative;}#sk-container-id-1 div.sk-text-repr-fallback {display: none;}</style><div id=\"sk-container-id-1\" class=\"sk-top-container\"><div class=\"sk-text-repr-fallback\"><pre>Pipeline(steps=[(&#x27;PreProcessing&#x27;, PreProcessing()),\n",
       "                (&#x27;CountVectorization&#x27;, CountVectorizer()),\n",
       "                (&#x27;Naive Bayes Classifier&#x27;, MultinomialNB())])</pre><b>In a Jupyter environment, please rerun this cell to show the HTML representation or trust the notebook. <br />On GitHub, the HTML representation is unable to render, please try loading this page with nbviewer.org.</b></div><div class=\"sk-container\" hidden><div class=\"sk-item sk-dashed-wrapped\"><div class=\"sk-label-container\"><div class=\"sk-label sk-toggleable\"><input class=\"sk-toggleable__control sk-hidden--visually\" id=\"sk-estimator-id-1\" type=\"checkbox\" ><label for=\"sk-estimator-id-1\" class=\"sk-toggleable__label sk-toggleable__label-arrow\">Pipeline</label><div class=\"sk-toggleable__content\"><pre>Pipeline(steps=[(&#x27;PreProcessing&#x27;, PreProcessing()),\n",
       "                (&#x27;CountVectorization&#x27;, CountVectorizer()),\n",
       "                (&#x27;Naive Bayes Classifier&#x27;, MultinomialNB())])</pre></div></div></div><div class=\"sk-serial\"><div class=\"sk-item\"><div class=\"sk-estimator sk-toggleable\"><input class=\"sk-toggleable__control sk-hidden--visually\" id=\"sk-estimator-id-2\" type=\"checkbox\" ><label for=\"sk-estimator-id-2\" class=\"sk-toggleable__label sk-toggleable__label-arrow\">PreProcessing</label><div class=\"sk-toggleable__content\"><pre>PreProcessing()</pre></div></div></div><div class=\"sk-item\"><div class=\"sk-estimator sk-toggleable\"><input class=\"sk-toggleable__control sk-hidden--visually\" id=\"sk-estimator-id-3\" type=\"checkbox\" ><label for=\"sk-estimator-id-3\" class=\"sk-toggleable__label sk-toggleable__label-arrow\">CountVectorizer</label><div class=\"sk-toggleable__content\"><pre>CountVectorizer()</pre></div></div></div><div class=\"sk-item\"><div class=\"sk-estimator sk-toggleable\"><input class=\"sk-toggleable__control sk-hidden--visually\" id=\"sk-estimator-id-4\" type=\"checkbox\" ><label for=\"sk-estimator-id-4\" class=\"sk-toggleable__label sk-toggleable__label-arrow\">MultinomialNB</label><div class=\"sk-toggleable__content\"><pre>MultinomialNB()</pre></div></div></div></div></div></div></div>"
      ],
      "text/plain": [
       "Pipeline(steps=[('PreProcessing', PreProcessing()),\n",
       "                ('CountVectorization', CountVectorizer()),\n",
       "                ('Naive Bayes Classifier', MultinomialNB())])"
      ]
     },
     "execution_count": 27,
     "metadata": {},
     "output_type": "execute_result"
    }
   ],
   "source": [
    "pipe.fit(dataset[\"train\"], dataset[\"train\"][\"label\"])"
   ]
  },
  {
   "attachments": {},
   "cell_type": "markdown",
   "metadata": {},
   "source": [
    "4- Accuracy on both training and test set:"
   ]
  },
  {
   "cell_type": "code",
   "execution_count": 28,
   "metadata": {},
   "outputs": [],
   "source": [
    "def count_good_answers(data):\n",
    "    good_answers_test = 0\n",
    "    for document in data:\n",
    "        if test_naive_bayes(document[\"text\"], logprior, loglikelihood, {0, 1}, Voc) == document[\"label\"] :\n",
    "            good_answers_test += 1\n",
    "    return good_answers_test\n",
    "\n",
    "\n"
   ]
  },
  {
   "cell_type": "code",
   "execution_count": 29,
   "metadata": {},
   "outputs": [
    {
     "name": "stdout",
     "output_type": "stream",
     "text": [
      "Accuracy on test set: \n",
      "0.81204\n",
      "Accuracy on training set: \n",
      "0.90612\n"
     ]
    }
   ],
   "source": [
    "print(\"Accuracy on test set: \")\n",
    "print(count_good_answers(updated_dataset[\"test\"])/len(updated_dataset[\"test\"]))\n",
    "print(\"Accuracy on training set: \")\n",
    "print(count_good_answers(updated_dataset[\"train\"])/len(updated_dataset[\"train\"]))"
   ]
  },
  {
   "cell_type": "code",
   "execution_count": 30,
   "metadata": {},
   "outputs": [
    {
     "name": "stderr",
     "output_type": "stream",
     "text": [
      "Loading cached processed dataset at /home/amine/.cache/huggingface/datasets/imdb/plain_text/1.0.0/d613c88cf8fa3bab83b4ded3713f1f74830d1100e171db75bbddb80b3345c9c0/cache-b28e1aeaa9fa126a.arrow\n"
     ]
    },
    {
     "name": "stdout",
     "output_type": "stream",
     "text": [
      "Accuracy on training set with scikit-learn: \n"
     ]
    },
    {
     "data": {
      "text/plain": [
       "0.89808"
      ]
     },
     "execution_count": 30,
     "metadata": {},
     "output_type": "execute_result"
    }
   ],
   "source": [
    "print(\"Accuracy on training set with scikit-learn: \")\n",
    "pipe.score(dataset[\"train\"], dataset[\"train\"][\"label\"])"
   ]
  },
  {
   "cell_type": "code",
   "execution_count": 31,
   "metadata": {},
   "outputs": [
    {
     "name": "stderr",
     "output_type": "stream",
     "text": [
      "Loading cached processed dataset at /home/amine/.cache/huggingface/datasets/imdb/plain_text/1.0.0/d613c88cf8fa3bab83b4ded3713f1f74830d1100e171db75bbddb80b3345c9c0/cache-d91771deae58c293.arrow\n"
     ]
    },
    {
     "name": "stdout",
     "output_type": "stream",
     "text": [
      "Accuracy on test set with scikit-learn: \n"
     ]
    },
    {
     "data": {
      "text/plain": [
       "0.8136"
      ]
     },
     "execution_count": 31,
     "metadata": {},
     "output_type": "execute_result"
    }
   ],
   "source": [
    "print(\"Accuracy on test set with scikit-learn: \")\n",
    "pipe.score(dataset[\"test\"], dataset[\"test\"][\"label\"])"
   ]
  },
  {
   "attachments": {},
   "cell_type": "markdown",
   "metadata": {},
   "source": [
    "5- Why does the scikit-learn implementation give better results ?"
   ]
  },
  {
   "cell_type": "markdown",
   "metadata": {},
   "source": [
    "La différence de résultats peut s'expliquer par le fait que MultinomialNB utilise directement des flottants plutôt que des entiers, ce qui permet d'avoir des résultats plus proches lors des calculs."
   ]
  },
  {
   "attachments": {},
   "cell_type": "markdown",
   "metadata": {},
   "source": [
    "6- Why is the accurary a sufficient measure of evaluation here ?"
   ]
  },
  {
   "cell_type": "markdown",
   "metadata": {},
   "source": [
    "L'accuracy est un moyen suffisant d'évaluation puisqu'il permet d'avoir les proportions de bonnes et de mauvaises réponses du modèle, et que l'on dispose d'un dataset important."
   ]
  },
  {
   "cell_type": "code",
   "execution_count": 32,
   "metadata": {},
   "outputs": [
    {
     "name": "stdout",
     "output_type": "stream",
     "text": [
      "blind date  columbia pictures  1934   was a decent film  but i have a few issues with this film. first of all  i don t fault the actors in this film at all  but more or less  i have a problem with the script. also  i understand that this film was made in the 1930 s and people were looking to escape reality  but the script made ann sothern s character look weak. she kept going back and forth between suitors and i felt as though she should have stayed with paul kelly s character in the end. he truly did care about her and her family and would have done anything for her and he did by giving her up in the end to fickle neil hamilton who in my opinion was only out for a good time. paul kelly s character  although a workaholic was a man of integrity and truly loved kitty  ann sothern  as opposed to neil hamilton  while he did like her a lot  i didn t see the depth of love that he had for her character. the production values were great  but the script could have used a little work.\n",
      "0\n",
      "\n",
      "\n",
      "\n",
      "\n",
      "ben   rupert grint   is a deeply unhappy adolescent  the son of his unhappily married parents. his father   nicholas farrell   is a vicar and his mother   laura linney   is ... well  let s just say she s a somewhat hypocritical soldier in jesus  army. it s only when he takes a summer job as an assistant to a foul mouthed  eccentric  once famous and now forgotten actress evie walton   julie walters   that he finally finds himself in true  harold and maude  fashion. of course  evie is deeply unhappy herself and it s only when these two sad sacks find each other that they can put their mutual misery aside and hit the road to happiness. br    br   of course it s corny and sentimental and very predictable but it has a hard side to it  too and walters  who could sleep walk her way through this sort of thing if she wanted  is excellent. it s when she puts the craziness to one side and finds the pathos in the character   like hitting the bottle and throwing up in the sink   that she s at her best. the problem is she s the only interesting character in the film  and it s not because of the script which doesn t do anybody any favours . grint  on the other hand  isn t just unhappy  he s a bit of a bore as well while linney s starched bitch is completely one dimensional.  still  she s got the english accent off pat . the best that can be said for it is that it s mildly enjoyable   with the emphasis on the mildly.\n",
      "0\n",
      "\n",
      "\n",
      "\n",
      "\n"
     ]
    }
   ],
   "source": [
    "found = 0\n",
    "for document in updated_dataset[\"test\"]:\n",
    "    if found < 2:\n",
    "        if test_naive_bayes(document[\"text\"], logprior, loglikelihood, {0, 1},  Voc) != document[\"label\"] :\n",
    "            found += 1\n",
    "            print(document[\"text\"])\n",
    "            print(document[\"label\"])\n",
    "            print(\"\\n\\n\\n\")"
   ]
  },
  {
   "attachments": {},
   "cell_type": "markdown",
   "metadata": {},
   "source": [
    "7- 2 wrongly classifier example from the test set and explanation of why the model failed:"
   ]
  },
  {
   "cell_type": "markdown",
   "metadata": {},
   "source": [
    "Dans le premier document, l'auteur a indiqué que le film n'était pas terrible, mais a voulu nuancer son propos ; par conséquent, une bonne partie du texte comprend des points positifs du film, ce qui a fausse le resultat.\n",
    "\n",
    "Dans le second document, on retrouve le meme probleme, avec certains mots employés (\"excellent\", \"best\", \"interesting\", \"enjoyable\") qui s'apparentent beaucoup plus au vocabulaire positif qu'au vocabulaire négatif, bien qu'éventuellement utilisés avec de la négation ou des nuances."
   ]
  },
  {
   "cell_type": "code",
   "execution_count": null,
   "metadata": {},
   "outputs": [],
   "source": []
  },
  {
   "cell_type": "markdown",
   "metadata": {},
   "source": [
    "# PART III - Stemming and Lemmatization "
   ]
  },
  {
   "attachments": {},
   "cell_type": "markdown",
   "metadata": {},
   "source": [
    "1- Adding stemming to pretreatment"
   ]
  },
  {
   "cell_type": "code",
   "execution_count": 33,
   "metadata": {},
   "outputs": [],
   "source": [
    "import nltk\n",
    "from nltk.stem.snowball import SnowballStemmer\n",
    "from nltk.tokenize import word_tokenize \n",
    "import re\n",
    "\n",
    "\n",
    "def preprocess_stemming(data):\n",
    "    str = data[\"text\"]\n",
    "    for c in string.punctuation:\n",
    "        if (c != \".\"):\n",
    "            str = str.replace(c, ' ')\n",
    "    data[\"text\"] = str.lower()\n",
    "    \n",
    "    re_word = re.compile(r\"^\\w+$\")\n",
    "    stemmer = SnowballStemmer(\"english\")\n",
    "    stemmed = [stemmer.stem(word) for word in word_tokenize(data[\"text\"].lower()) if re_word.match(word)]\n",
    "    data[\"text\"] = \" \".join(stemmed)\n",
    "    \n",
    "    return data"
   ]
  },
  {
   "attachments": {},
   "cell_type": "markdown",
   "metadata": {},
   "source": [
    "2- Train and evaluate the model again with these pretreatment"
   ]
  },
  {
   "cell_type": "code",
   "execution_count": 34,
   "metadata": {},
   "outputs": [
    {
     "name": "stderr",
     "output_type": "stream",
     "text": [
      "Loading cached processed dataset at /home/amine/.cache/huggingface/datasets/imdb/plain_text/1.0.0/d613c88cf8fa3bab83b4ded3713f1f74830d1100e171db75bbddb80b3345c9c0/cache-ee5adf94d0287cf4.arrow\n",
      "Loading cached processed dataset at /home/amine/.cache/huggingface/datasets/imdb/plain_text/1.0.0/d613c88cf8fa3bab83b4ded3713f1f74830d1100e171db75bbddb80b3345c9c0/cache-7f5f56c85f7085fe.arrow\n",
      "Loading cached processed dataset at /home/amine/.cache/huggingface/datasets/imdb/plain_text/1.0.0/d613c88cf8fa3bab83b4ded3713f1f74830d1100e171db75bbddb80b3345c9c0/cache-21becf5615bbc4ed.arrow\n"
     ]
    }
   ],
   "source": [
    "updated_dataset_stem = dataset.map(preprocess_stemming)\n",
    "(logprior_stem, loglikelihood_stem, Voc_stem) = train_naive_bayes(updated_dataset_stem[\"train\"], {0, 1})\n",
    "\n",
    "    "
   ]
  },
  {
   "cell_type": "code",
   "execution_count": 35,
   "metadata": {},
   "outputs": [
    {
     "name": "stdout",
     "output_type": "stream",
     "text": [
      "Accuracy on training set with stemming: \n",
      "0.84316\n",
      "Accuracy on test set with stemming: \n",
      "0.75368\n"
     ]
    }
   ],
   "source": [
    "print(\"Accuracy on training set with stemming: \")\n",
    "print(count_good_answers(updated_dataset_stem[\"train\"])/len(updated_dataset_stem[\"train\"]))\n",
    "print(\"Accuracy on test set with stemming: \")\n",
    "print(count_good_answers(updated_dataset_stem[\"test\"])/len(updated_dataset_stem[\"test\"]))\n"
   ]
  },
  {
   "attachments": {},
   "cell_type": "markdown",
   "metadata": {},
   "source": [
    "3- Are the results better or worse ? "
   ]
  },
  {
   "attachments": {},
   "cell_type": "markdown",
   "metadata": {},
   "source": [
    "EXPLIQUER POURQUOI L'ACCURANCY A CHANGÉ"
   ]
  }
 ],
 "metadata": {
  "kernelspec": {
   "display_name": "Python 3 (ipykernel)",
   "language": "python",
   "name": "python3"
  },
  "language_info": {
   "codemirror_mode": {
    "name": "ipython",
    "version": 3
   },
   "file_extension": ".py",
   "mimetype": "text/x-python",
   "name": "python",
   "nbconvert_exporter": "python",
   "pygments_lexer": "ipython3",
   "version": "3.9.16"
  }
 },
 "nbformat": 4,
 "nbformat_minor": 1
}
