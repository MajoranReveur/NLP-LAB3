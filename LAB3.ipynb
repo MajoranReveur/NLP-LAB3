{
 "cells": [
  {
   "attachments": {},
   "cell_type": "markdown",
   "metadata": {},
   "source": [
    "# FEATURES"
   ]
  },
  {
   "cell_type": "code",
   "execution_count": 1,
   "metadata": {},
   "outputs": [
    {
     "name": "stderr",
     "output_type": "stream",
     "text": [
      "/Users/nanditraore/anaconda3/lib/python3.10/site-packages/tqdm/auto.py:21: TqdmWarning: IProgress not found. Please update jupyter and ipywidgets. See https://ipywidgets.readthedocs.io/en/stable/user_install.html\n",
      "  from .autonotebook import tqdm as notebook_tqdm\n",
      "Found cached dataset imdb (/Users/nanditraore/.cache/huggingface/datasets/imdb/plain_text/1.0.0/d613c88cf8fa3bab83b4ded3713f1f74830d1100e171db75bbddb80b3345c9c0)\n",
      "100%|██████████| 3/3 [00:00<00:00, 55.05it/s]\n"
     ]
    }
   ],
   "source": [
    "from datasets import get_dataset_split_names\n",
    "from datasets import load_dataset\n",
    "from datasets import dataset_dict\n",
    "from datasets import arrow_dataset\n",
    "import string\n",
    "\n",
    "dataset = load_dataset(\"imdb\")"
   ]
  },
  {
   "cell_type": "code",
   "execution_count": 2,
   "metadata": {},
   "outputs": [],
   "source": [
    "def preprocess(data : dict) -> dict:\n",
    "    '''Takes a document from a dataset, lowers the letters and\n",
    "    replace all punctuations by spaces'''\n",
    "    text = data[\"text\"]\n",
    "    for character in string.punctuation:\n",
    "        if character != \"-\" and character != \"!\":\n",
    "          text = text.replace(character, ' ')\n",
    "    data[\"text\"] = text.lower()\n",
    "    return data"
   ]
  },
  {
   "cell_type": "code",
   "execution_count": 3,
   "metadata": {},
   "outputs": [
    {
     "name": "stderr",
     "output_type": "stream",
     "text": [
      "Loading cached processed dataset at /Users/nanditraore/.cache/huggingface/datasets/imdb/plain_text/1.0.0/d613c88cf8fa3bab83b4ded3713f1f74830d1100e171db75bbddb80b3345c9c0/cache-a1ff6ac6f3dae5b2.arrow\n",
      "Loading cached processed dataset at /Users/nanditraore/.cache/huggingface/datasets/imdb/plain_text/1.0.0/d613c88cf8fa3bab83b4ded3713f1f74830d1100e171db75bbddb80b3345c9c0/cache-3ff24866f561b56d.arrow\n",
      "Loading cached processed dataset at /Users/nanditraore/.cache/huggingface/datasets/imdb/plain_text/1.0.0/d613c88cf8fa3bab83b4ded3713f1f74830d1100e171db75bbddb80b3345c9c0/cache-c8e6bf051898815c.arrow\n"
     ]
    }
   ],
   "source": [
    "updated_dataset= dataset.map(preprocess)"
   ]
  },
  {
   "cell_type": "code",
   "execution_count": 4,
   "metadata": {},
   "outputs": [],
   "source": [
    "import math\n",
    "import numpy as np\n",
    "from vaderSentiment.vaderSentiment import SentimentIntensityAnalyzer\n",
    "def build_single_feature(text : string):\n",
    "    '''Updates the Vocabulary by adding the words contained in the text'''\n",
    "\n",
    "    word_count = 0\n",
    "    base_vector = [0,0,0,0.0,0,0]\n",
    "    feature_vector = np.array(base_vector)\n",
    "    Analyser = SentimentIntensityAnalyzer()\n",
    "\n",
    "    for word in text.split():\n",
    "        word_count += 1\n",
    "        if (word == \"no\") :\n",
    "            feature_vector[0] = 1\n",
    "        if (word == \"i\" or word == \"you\") :\n",
    "            feature_vector[1] +=  1\n",
    "        if (word == \"!\") :\n",
    "            feature_vector[2] = 1\n",
    "        test_dict = Analyser.polarity_scores(word)\n",
    "        if (test_dict[\"compound\"] >= 0.05):\n",
    "            feature_vector[4] += 1\n",
    "        elif (test_dict[\"compound\"] <= -0.05):\n",
    "            feature_vector[5] += 1\n",
    "    feature_vector[3] = math.log(word_count)\n",
    "\n",
    "    return feature_vector\n",
    "\n",
    "def build_all_features(dataset : dataset_dict.DatasetDict) -> dict[int]:\n",
    "    '''Construct a vocabulary from the documents contained in dataset'''\n",
    "    list_vector = []\n",
    "    #list_label = []\n",
    "    for document in dataset:\n",
    "        feature_vector = build_single_feature(document[\"text\"])\n",
    "        list_vector.append(feature_vector)\n",
    "       # list_label.append(document[\"label\"])\n",
    "    features_vector = np.array(list_vector)\n",
    "\n",
    "    return features_vector"
   ]
  },
  {
   "cell_type": "code",
   "execution_count": 5,
   "metadata": {},
   "outputs": [],
   "source": [
    "train_feature_vectors = build_all_features(updated_dataset[\"train\"])\n",
    "test_feature_vectors = build_all_features(updated_dataset[\"test\"])"
   ]
  },
  {
   "attachments": {},
   "cell_type": "markdown",
   "metadata": {},
   "source": [
    "# II REGRESSION LINEAIRE"
   ]
  },
  {
   "attachments": {},
   "cell_type": "markdown",
   "metadata": {},
   "source": [
    "# 1- Adaptation of the code with our vectors of features"
   ]
  },
  {
   "cell_type": "code",
   "execution_count": 6,
   "metadata": {},
   "outputs": [],
   "source": [
    "import matplotlib.pyplot as plt\n",
    "import numpy as np\n",
    "import pandas as pd\n",
    "import seaborn as sns\n",
    "from sklearn.model_selection import train_test_split\n",
    "\n",
    "import torch\n",
    "from torch import nn"
   ]
  },
  {
   "cell_type": "code",
   "execution_count": 7,
   "metadata": {},
   "outputs": [],
   "source": [
    "# Forcing the random seed for reproductibility\n",
    "np.random.seed(seed=42)\n",
    "\n",
    "train_labels = updated_dataset[\"train\"][\"label\"]\n",
    "test_labels = updated_dataset[\"test\"][\"label\"]\n"
   ]
  },
  {
   "cell_type": "code",
   "execution_count": 9,
   "metadata": {},
   "outputs": [],
   "source": [
    "df = pd.DataFrame()\n",
    "df[\"no\"] = train_feature_vectors[:, 0]\n",
    "df[\"pronouns\"] = train_feature_vectors[:, 1]\n",
    "df[\"!\"] = train_feature_vectors[:, 2]\n",
    "df[\"Log(word_count)\"] = train_feature_vectors[:, 3]\n",
    "df[\"positive\"] = train_feature_vectors[:, 4]\n",
    "df[\"negative\"] = train_feature_vectors[:, 5]\n",
    "\n",
    "\n",
    "df[\"label\"] = train_labels\n",
    "\n"
   ]
  },
  {
   "cell_type": "code",
   "execution_count": 24,
   "metadata": {},
   "outputs": [
    {
     "name": "stderr",
     "output_type": "stream",
     "text": [
      "/var/folders/rd/ls4j_fnj1vz6qv904d5m_qh00000gn/T/ipykernel_26954/2677145971.py:2: UserWarning: To copy construct from a tensor, it is recommended to use sourceTensor.clone().detach() or sourceTensor.clone().detach().requires_grad_(True), rather than torch.tensor(sourceTensor).\n",
      "  train_labels = torch.tensor(train_labels, dtype=torch.float32).reshape(-1, 1)\n"
     ]
    }
   ],
   "source": [
    "\n",
    "all_points = torch.tensor(train_feature_vectors, dtype=torch.float32)\n",
    "train_labels = torch.tensor(train_labels, dtype=torch.float32).reshape(-1, 1)\n",
    "\n",
    "X_test = torch.tensor(test_feature_vectors, dtype=torch.float32)\n",
    "y_test = torch.tensor(test_labels, dtype= torch.float32).reshape(-1, 1)\n",
    "\n",
    "X_train, X_valid, y_train, y_valid = train_test_split(\n",
    "    all_points,\n",
    "    train_labels,\n",
    "    test_size=0.2,\n",
    "    stratify=train_labels,\n",
    "    random_state=10,\n",
    ")\n",
    "\n"
   ]
  },
  {
   "cell_type": "code",
   "execution_count": 25,
   "metadata": {},
   "outputs": [],
   "source": [
    "class LogisticRegression(nn.Module):\n",
    "    \"\"\"A logistic regression implementation\"\"\"\n",
    "\n",
    "    def __init__(self, input_dim: int, nb_classes: int) -> None:\n",
    "        \"\"\"\n",
    "        Args:\n",
    "            input_dim: the dimension of the input features.\n",
    "            nb_classes: the number of classes to predict.\n",
    "        \"\"\"\n",
    "        super().__init__()\n",
    "        output_layer = nn.Sigmoid() if nb_classes == 1 else nn.Softmax()\n",
    "        self.classifier = torch.nn.Sequential(\n",
    "            nn.Linear(input_dim, nb_classes),\n",
    "            output_layer,\n",
    "        )\n",
    "\n",
    "    def forward(self, x: torch.Tensor) -> torch.Tensor:\n",
    "        \"\"\"\n",
    "        Args:\n",
    "            x: the input tensor.\n",
    "        Returns:\n",
    "            The output of activation function.\n",
    "        \"\"\"\n",
    "        return self.classifier(x)"
   ]
  },
  {
   "cell_type": "code",
   "execution_count": 26,
   "metadata": {},
   "outputs": [],
   "source": [
    "model = LogisticRegression(6, 1)\n",
    "criterion = nn.BCELoss()  # Binary cross entropy\n",
    "# Stochastic gradient descent\n",
    "optimizer = torch.optim.SGD(model.parameters(), lr=0.01, weight_decay=0.5)\n",
    "\n"
   ]
  },
  {
   "cell_type": "code",
   "execution_count": 27,
   "metadata": {},
   "outputs": [
    {
     "name": "stdout",
     "output_type": "stream",
     "text": [
      "tensor(1.8693, grad_fn=<BinaryCrossEntropyBackward0>)\n",
      "tensor(0.5869, grad_fn=<BinaryCrossEntropyBackward0>)\n",
      "tensor(0.5855, grad_fn=<BinaryCrossEntropyBackward0>)\n",
      "tensor(0.5846, grad_fn=<BinaryCrossEntropyBackward0>)\n",
      "tensor(0.5841, grad_fn=<BinaryCrossEntropyBackward0>)\n",
      "tensor(0.5838, grad_fn=<BinaryCrossEntropyBackward0>)\n",
      "tensor(0.5836, grad_fn=<BinaryCrossEntropyBackward0>)\n",
      "tensor(0.5836, grad_fn=<BinaryCrossEntropyBackward0>)\n",
      "tensor(0.5835, grad_fn=<BinaryCrossEntropyBackward0>)\n",
      "tensor(0.5835, grad_fn=<BinaryCrossEntropyBackward0>)\n",
      "CPU times: user 1 s, sys: 16.6 ms, total: 1.02 s\n",
      "Wall time: 1.14 s\n"
     ]
    }
   ],
   "source": [
    "%%time\n",
    "\n",
    "n_epochs = 1000\n",
    "\n",
    "# Keeping an eye on the losses\n",
    "train_losses = []\n",
    "test_losses = []\n",
    "\n",
    "# Training loop\n",
    "for epoch in range(n_epochs):\n",
    "    # Setting all gradients to zero.\n",
    "    optimizer.zero_grad()\n",
    "\n",
    "    # Sending the whole training set through the model.\n",
    "    predictions = model(X_train)\n",
    "    # Computing the loss.\n",
    "    loss = criterion(predictions, y_train)\n",
    "    train_losses.append(loss.item())\n",
    "    if epoch % 100 == 0:\n",
    "        print(loss)\n",
    "    # Computing the gradients and gradient descent.\n",
    "    loss.backward()\n",
    "    optimizer.step()\n",
    "\n",
    "    # When computing the validation loss, we do not want to update the weights.\n",
    "    # torch.no_grad tells PyTorch to not save the necessary data used for\n",
    "    # gradient descent.\n",
    "    with torch.no_grad():\n",
    "        predictions = model(X_valid)\n",
    "        loss = criterion(predictions, y_valid)\n",
    "        test_losses.append(loss)\n"
   ]
  },
  {
   "cell_type": "code",
   "execution_count": 28,
   "metadata": {},
   "outputs": [
    {
     "data": {
      "text/plain": [
       "<matplotlib.legend.Legend at 0x7ff9a8687af0>"
      ]
     },
     "execution_count": 28,
     "metadata": {},
     "output_type": "execute_result"
    },
    {
     "data": {
      "image/png": "[encoded data removed]",
      "text/plain": [
       "<Figure size 640x480 with 1 Axes>"
      ]
     },
     "metadata": {},
     "output_type": "display_data"
    }
   ],
   "source": [
    "# Checking the losses\n",
    "plt.plot(np.arange(len(train_losses)), train_losses, label=\"Training loss\")\n",
    "plt.plot(np.arange(len(test_losses)), test_losses, label=\"Test loss\")\n",
    "plt.legend()\n"
   ]
  },
  {
   "attachments": {},
   "cell_type": "markdown",
   "metadata": {},
   "source": [
    "# 2- Evaluate the classifier in terms of accuracy for the training"
   ]
  },
  {
   "cell_type": "code",
   "execution_count": 29,
   "metadata": {},
   "outputs": [
    {
     "name": "stdout",
     "output_type": "stream",
     "text": [
      "0.7116 0.7178 0.714\n"
     ]
    }
   ],
   "source": [
    "# Computing the accuracy for our 3 splits.\n",
    "with torch.no_grad():\n",
    "    p_train = model(X_train)\n",
    "    p_train = np.round(p_train.numpy())\n",
    "    training_accuracy = np.mean(p_train == y_train.numpy())\n",
    "    p_valid = model(X_valid)\n",
    "    p_valid = np.round(p_valid.numpy())\n",
    "    valid_accuracy = np.mean(p_valid == y_valid.numpy())\n",
    "    p_test = model(X_test)\n",
    "    p_test = np.round(p_test.numpy())\n",
    "    test_accuracy = np.mean(p_test == y_test.numpy())\n",
    "print(training_accuracy,valid_accuracy, test_accuracy)"
   ]
  },
  {
   "attachments": {},
   "cell_type": "markdown",
   "metadata": {},
   "source": [
    "# 3- THe weights : Which features seems to play most to both classes"
   ]
  },
  {
   "attachments": {},
   "cell_type": "markdown",
   "metadata": {},
   "source": [
    "En analysant les différents poids, on observe que celui qui semble influencer le plus sur nos classes est celui correspondant à la gestion du lexique positif."
   ]
  },
  {
   "cell_type": "code",
   "execution_count": 30,
   "metadata": {},
   "outputs": [
    {
     "data": {
      "text/plain": [
       "(tensor([[-0.0289, -0.0486, -0.0047, -0.0177,  0.1239, -0.1442]]),\n",
       " tensor([-0.0021]))"
      ]
     },
     "execution_count": 30,
     "metadata": {},
     "output_type": "execute_result"
    }
   ],
   "source": [
    "# Looking at the model's weights and bias.\n",
    "model.classifier[0].state_dict()[\"weight\"], model.classifier[0].state_dict()[\"bias\"]\n"
   ]
  }
 ],
 "metadata": {
  "kernelspec": {
   "display_name": "Python 3 (ipykernel)",
   "language": "python",
   "name": "python3"
  },
  "language_info": {
   "codemirror_mode": {
    "name": "ipython",
    "version": 3
   },
   "file_extension": ".py",
   "mimetype": "text/x-python",
   "name": "python",
   "nbconvert_exporter": "python",
   "pygments_lexer": "ipython3",
   "version": "3.10.10"
  }
 },
 "nbformat": 4,
 "nbformat_minor": 1
}
