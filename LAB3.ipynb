{
 "cells": [
  {
   "attachments": {},
   "cell_type": "markdown",
   "metadata": {},
   "source": [
    "# Part I - FEATURES"
   ]
  },
  {
   "cell_type": "code",
   "execution_count": 1,
   "metadata": {},
   "outputs": [
    {
     "name": "stderr",
     "output_type": "stream",
     "text": [
      "Found cached dataset imdb (C:/Users/leand/.cache/huggingface/datasets/imdb/plain_text/1.0.0/d613c88cf8fa3bab83b4ded3713f1f74830d1100e171db75bbddb80b3345c9c0)\n"
     ]
    },
    {
     "data": {
      "text/plain": "  0%|          | 0/3 [00:00<?, ?it/s]",
      "application/vnd.jupyter.widget-view+json": {
       "version_major": 2,
       "version_minor": 0,
       "model_id": "4e7372691c1b467ebcc4149981f2010f"
      }
     },
     "metadata": {},
     "output_type": "display_data"
    }
   ],
   "source": [
    "from datasets import get_dataset_split_names\n",
    "from datasets import load_dataset\n",
    "from datasets import dataset_dict\n",
    "from datasets import arrow_dataset\n",
    "import string\n",
    "\n",
    "dataset = load_dataset(\"imdb\")"
   ]
  },
  {
   "cell_type": "code",
   "execution_count": 2,
   "metadata": {},
   "outputs": [],
   "source": [
    "def preprocess(data : dict) -> dict:\n",
    "    '''Takes a document from a dataset, lowers the letters and\n",
    "    replace all punctuations by spaces'''\n",
    "    text = data[\"text\"]\n",
    "    for character in string.punctuation:\n",
    "        if character != \"-\" and character != \"!\":\n",
    "          text = text.replace(character, ' ')\n",
    "    data[\"text\"] = text.lower()\n",
    "    return data"
   ]
  },
  {
   "cell_type": "code",
   "execution_count": 3,
   "metadata": {},
   "outputs": [
    {
     "name": "stderr",
     "output_type": "stream",
     "text": [
      "Loading cached processed dataset at C:\\Users\\leand\\.cache\\huggingface\\datasets\\imdb\\plain_text\\1.0.0\\d613c88cf8fa3bab83b4ded3713f1f74830d1100e171db75bbddb80b3345c9c0\\cache-a1ff6ac6f3dae5b2.arrow\n",
      "Loading cached processed dataset at C:\\Users\\leand\\.cache\\huggingface\\datasets\\imdb\\plain_text\\1.0.0\\d613c88cf8fa3bab83b4ded3713f1f74830d1100e171db75bbddb80b3345c9c0\\cache-3ff24866f561b56d.arrow\n",
      "Loading cached processed dataset at C:\\Users\\leand\\.cache\\huggingface\\datasets\\imdb\\plain_text\\1.0.0\\d613c88cf8fa3bab83b4ded3713f1f74830d1100e171db75bbddb80b3345c9c0\\cache-c8e6bf051898815c.arrow\n"
     ]
    }
   ],
   "source": [
    "updated_dataset= dataset.map(preprocess)"
   ]
  },
  {
   "cell_type": "code",
   "execution_count": 4,
   "metadata": {},
   "outputs": [],
   "source": [
    "import math\n",
    "import numpy as np\n",
    "from vaderSentiment.vaderSentiment import SentimentIntensityAnalyzer\n",
    "analyzer = SentimentIntensityAnalyzer()\n",
    "\n",
    "def preprocess_text(text : string) -> string:\n",
    "    '''Takes a document from a dataset, lowers the letters and\n",
    "    replace all punctuations by spaces'''\n",
    "    for character in string.punctuation:\n",
    "        if character != \"-\":\n",
    "          text = text.replace(character, ' ')\n",
    "    return text.lower()\n",
    "\n",
    "def preprocess(data : dict) -> dict:\n",
    "    data['text'] = preprocess_text(data['text'])\n",
    "    return data\n",
    "\n",
    "def build_single_feature(text : string) -> np.array:\n",
    "    vector = np.zeros(7)\n",
    "    if \"!\" in text :\n",
    "        vector[2] = 1\n",
    "    text = preprocess_text(text)\n",
    "    words = text.split()\n",
    "    if \"no\" in words :\n",
    "        vector[0] = 1\n",
    "    vector[1] = words.count(\"i\") + words.count(\"you\")\n",
    "    vector[3] = math.log(len(words))\n",
    "    for word in words:\n",
    "        value = analyzer.polarity_scores(word)['compound']\n",
    "        if value >= 0.5:\n",
    "            vector[4] += 1\n",
    "        elif value <= -0.5:\n",
    "            vector[5] += 1\n",
    "        else:\n",
    "            vector[6] += 1\n",
    "    vector[6] = math.log(vector[6])\n",
    "    return vector\n",
    "\n",
    "def build_all_features(dataset : dataset_dict.DatasetDict) -> np.ndarray:\n",
    "    '''Construct a list of the vectors of features from the documents contained in dataset'''\n",
    "    list_vector = []\n",
    "    for document in dataset:\n",
    "        feature_vector = build_single_feature(document[\"text\"])\n",
    "        list_vector.append(feature_vector)\n",
    "    features_vector = np.array(list_vector)\n",
    "\n",
    "    return features_vector"
   ]
  },
  {
   "cell_type": "code",
   "execution_count": 5,
   "metadata": {},
   "outputs": [],
   "source": [
    "train_feature_vectors = build_all_features(updated_dataset[\"train\"])\n",
    "test_feature_vectors = build_all_features(updated_dataset[\"test\"])"
   ]
  },
  {
   "attachments": {},
   "cell_type": "markdown",
   "metadata": {},
   "source": [
    "# Part II - Logistic regression classifier"
   ]
  },
  {
   "attachments": {},
   "cell_type": "markdown",
   "metadata": {},
   "source": [
    "# 1- Adaptation of the code with our vectors of features"
   ]
  },
  {
   "cell_type": "code",
   "execution_count": 6,
   "metadata": {},
   "outputs": [],
   "source": [
    "import matplotlib.pyplot as plt\n",
    "import numpy as np\n",
    "import pandas as pd\n",
    "import seaborn as sns\n",
    "from sklearn.model_selection import train_test_split\n",
    "\n",
    "import torch\n",
    "from torch import nn"
   ]
  },
  {
   "cell_type": "code",
   "execution_count": 7,
   "metadata": {},
   "outputs": [],
   "source": [
    "# Forcing the random seed for reproductibility\n",
    "np.random.seed(seed=42)\n",
    "\n",
    "train_labels = updated_dataset[\"train\"][\"label\"]\n",
    "test_labels = updated_dataset[\"test\"][\"label\"]\n"
   ]
  },
  {
   "cell_type": "code",
   "execution_count": 8,
   "metadata": {},
   "outputs": [],
   "source": [
    "df = pd.DataFrame()\n",
    "df[\"no\"] = train_feature_vectors[:, 0]\n",
    "df[\"pronouns\"] = train_feature_vectors[:, 1]\n",
    "df[\"!\"] = train_feature_vectors[:, 2]\n",
    "df[\"Log(word_count)\"] = train_feature_vectors[:, 3]\n",
    "df[\"positive\"] = train_feature_vectors[:, 4]\n",
    "df[\"negative\"] = train_feature_vectors[:, 5]\n",
    "df[\"label\"] = train_labels"
   ]
  },
  {
   "cell_type": "code",
   "execution_count": 9,
   "metadata": {},
   "outputs": [],
   "source": [
    "\n",
    "all_points = torch.tensor(train_feature_vectors, dtype=torch.float32)\n",
    "train_labels = torch.tensor(train_labels, dtype=torch.float32).reshape(-1, 1)\n",
    "\n",
    "X_test = torch.tensor(test_feature_vectors, dtype=torch.float32)\n",
    "y_test = torch.tensor(test_labels, dtype= torch.float32).reshape(-1, 1)\n",
    "\n",
    "X_train, X_valid, y_train, y_valid = train_test_split(\n",
    "    all_points,\n",
    "    train_labels,\n",
    "    test_size=0.2,\n",
    "    stratify=train_labels,\n",
    "    random_state=10,\n",
    ")"
   ]
  },
  {
   "cell_type": "code",
   "execution_count": 10,
   "metadata": {},
   "outputs": [],
   "source": [
    "class LogisticRegression(nn.Module):\n",
    "    \"\"\"A logistic regression implementation\"\"\"\n",
    "\n",
    "    def __init__(self, input_dim: int, nb_classes: int) -> None:\n",
    "        \"\"\"\n",
    "        Args:\n",
    "            input_dim: the dimension of the input features.\n",
    "            nb_classes: the number of classes to predict.\n",
    "        \"\"\"\n",
    "        super().__init__()\n",
    "        output_layer = nn.Sigmoid() if nb_classes == 1 else nn.Softmax()\n",
    "        self.classifier = torch.nn.Sequential(\n",
    "            nn.Linear(input_dim, nb_classes),\n",
    "            output_layer,\n",
    "        )\n",
    "\n",
    "    def forward(self, x: torch.Tensor) -> torch.Tensor:\n",
    "        \"\"\"\n",
    "        Args:\n",
    "            x: the input tensor.\n",
    "        Returns:\n",
    "            The output of activation function.\n",
    "        \"\"\"\n",
    "        return self.classifier(x)\n",
    "\n",
    "    def get_weight(self) -> list:\n",
    "        \"\"\"\n",
    "        Args:\n",
    "            x: the input tensor.\n",
    "        Returns:\n",
    "            The output of activation function.\n",
    "        \"\"\"\n",
    "        return self.classifier[0].weight"
   ]
  },
  {
   "cell_type": "code",
   "execution_count": 11,
   "metadata": {},
   "outputs": [],
   "source": [
    "model = LogisticRegression(7, 1)\n",
    "criterion = nn.BCELoss()  # Binary cross entropy\n",
    "# Stochastic gradient descent\n",
    "optimizer = torch.optim.SGD(model.parameters(), lr=0.01, weight_decay=0.5)"
   ]
  },
  {
   "cell_type": "code",
   "execution_count": 12,
   "metadata": {},
   "outputs": [
    {
     "name": "stdout",
     "output_type": "stream",
     "text": [
      "tensor(1.0365, grad_fn=<BinaryCrossEntropyBackward0>)\n",
      "tensor(0.5986, grad_fn=<BinaryCrossEntropyBackward0>)\n",
      "tensor(0.5942, grad_fn=<BinaryCrossEntropyBackward0>)\n",
      "tensor(0.5926, grad_fn=<BinaryCrossEntropyBackward0>)\n",
      "tensor(0.5919, grad_fn=<BinaryCrossEntropyBackward0>)\n",
      "tensor(0.5915, grad_fn=<BinaryCrossEntropyBackward0>)\n",
      "tensor(0.5913, grad_fn=<BinaryCrossEntropyBackward0>)\n",
      "tensor(0.5912, grad_fn=<BinaryCrossEntropyBackward0>)\n",
      "tensor(0.5911, grad_fn=<BinaryCrossEntropyBackward0>)\n",
      "tensor(0.5911, grad_fn=<BinaryCrossEntropyBackward0>)\n",
      "CPU times: total: 1.69 s\n",
      "Wall time: 1.1 s\n"
     ]
    }
   ],
   "source": [
    "%%time\n",
    "\n",
    "n_epochs = 1000\n",
    "\n",
    "# Keeping an eye on the losses\n",
    "train_losses = []\n",
    "test_losses = []\n",
    "\n",
    "# Training loop\n",
    "for epoch in range(n_epochs):\n",
    "    # Setting all gradients to zero.\n",
    "    optimizer.zero_grad()\n",
    "\n",
    "    # Sending the whole training set through the model.\n",
    "    predictions = model(X_train)\n",
    "    # Computing the loss.\n",
    "    loss = criterion(predictions, y_train)\n",
    "    train_losses.append(loss.item())\n",
    "    if epoch % 100 == 0:\n",
    "        print(loss)\n",
    "    # Computing the gradients and gradient descent.\n",
    "    loss.backward()\n",
    "    optimizer.step()\n",
    "\n",
    "    # When computing the validation loss, we do not want to update the weights.\n",
    "    # torch.no_grad tells PyTorch to not save the necessary data used for\n",
    "    # gradient descent.\n",
    "    with torch.no_grad():\n",
    "        predictions = model(X_valid)\n",
    "        loss = criterion(predictions, y_valid)\n",
    "        test_losses.append(loss)\n"
   ]
  },
  {
   "cell_type": "code",
   "execution_count": 13,
   "metadata": {},
   "outputs": [
    {
     "data": {
      "text/plain": "<matplotlib.legend.Legend at 0x22d918d28f0>"
     },
     "execution_count": 13,
     "metadata": {},
     "output_type": "execute_result"
    },
    {
     "data": {
      "text/plain": "<Figure size 640x480 with 1 Axes>",
      "image/png": "[encoded data removed]"
     },
     "metadata": {},
     "output_type": "display_data"
    }
   ],
   "source": [
    "# Checking the losses\n",
    "plt.plot(np.arange(len(train_losses)), train_losses, label=\"Training loss\")\n",
    "plt.plot(np.arange(len(test_losses)), test_losses, label=\"Test loss\")\n",
    "plt.legend()\n"
   ]
  },
  {
   "attachments": {},
   "cell_type": "markdown",
   "metadata": {},
   "source": [
    "# 2- Evaluate the classifier in terms of accuracy for the training"
   ]
  },
  {
   "cell_type": "code",
   "execution_count": 14,
   "metadata": {},
   "outputs": [
    {
     "name": "stdout",
     "output_type": "stream",
     "text": [
      "0.7075 0.7118 0.70872\n"
     ]
    }
   ],
   "source": [
    "# Computing the accuracy for our 3 splits.\n",
    "with torch.no_grad():\n",
    "    p_train = model(X_train)\n",
    "    p_train = np.round(p_train.numpy())\n",
    "    training_accuracy = np.mean(p_train == y_train.numpy())\n",
    "    p_valid = model(X_valid)\n",
    "    p_valid = np.round(p_valid.numpy())\n",
    "    valid_accuracy = np.mean(p_valid == y_valid.numpy())\n",
    "    p_test = model(X_test)\n",
    "    p_test = np.round(p_test.numpy())\n",
    "    test_accuracy = np.mean(p_test == y_test.numpy())\n",
    "print(training_accuracy,valid_accuracy, test_accuracy)"
   ]
  },
  {
   "cell_type": "markdown",
   "metadata": {},
   "source": [
    "L'accuracy du set de training est donc de 70,75%, celle du set de validation est de 71,18% est celle du set de test est de 70,872%."
   ]
  },
  {
   "attachments": {},
   "cell_type": "markdown",
   "metadata": {},
   "source": [
    "# 3- The weights : Which features seems to play most to both classes"
   ]
  },
  {
   "cell_type": "code",
   "execution_count": 15,
   "metadata": {},
   "outputs": [
    {
     "data": {
      "text/plain": "(tensor([[-0.0527, -0.0381, -0.0065, -0.0182,  0.2488, -0.1301, -0.0219]]),\n tensor([-0.0011]))"
     },
     "execution_count": 15,
     "metadata": {},
     "output_type": "execute_result"
    }
   ],
   "source": [
    "# Looking at the model's weights and bias.\n",
    "model.classifier[0].state_dict()[\"weight\"], model.classifier[0].state_dict()[\"bias\"]\n"
   ]
  },
  {
   "cell_type": "markdown",
   "metadata": {},
   "source": [
    "Les poids de notre classifier sont donc : [-0.0527, -0.0381, -0.0065, -0.0182,  0.2488, -0.1301, -0.0219]."
   ]
  },
  {
   "cell_type": "code",
   "execution_count": 16,
   "outputs": [
    {
     "data": {
      "text/plain": "Parameter containing:\ntensor([[-0.0527, -0.0381, -0.0065, -0.0182,  0.2488, -0.1301, -0.0219]],\n       requires_grad=True)"
     },
     "execution_count": 16,
     "metadata": {},
     "output_type": "execute_result"
    }
   ],
   "source": [
    "model.get_weight()"
   ],
   "metadata": {
    "collapsed": false
   }
  },
  {
   "attachments": {},
   "cell_type": "markdown",
   "metadata": {},
   "source": [
    "En analysant les différents poids, on observe que celui qui semble influencer le plus sur nos classes sont celui correspondant à la gestion du lexique positif et celui correspondant à la gestion du lexique négatif."
   ]
  },
  {
   "attachments": {},
   "cell_type": "markdown",
   "metadata": {},
   "source": [
    "# 4- Take two wrongly classified samples in the test set and try explaining why the model was wrong."
   ]
  },
  {
   "cell_type": "code",
   "execution_count": 17,
   "metadata": {},
   "outputs": [
    {
     "name": "stdout",
     "output_type": "stream",
     "text": [
      "{'text': \"First off let me say, If you haven't enjoyed a Van Damme movie since bloodsport, you probably will not like this movie. Most of these movies may not have the best plots or best actors but I enjoy these kinds of movies for what they are. This movie is much better than any of the movies the other action guys (Segal and Dolph) have thought about putting out the past few years. Van Damme is good in the movie, the movie is only worth watching to Van Damme fans. It is not as good as Wake of Death (which i highly recommend to anyone of likes Van Damme) or In hell but, in my opinion it's worth watching. It has the same type of feel to it as Nowhere to Run. Good fun stuff!\", 'label': 0}\n",
      "tensor([0.0000, 4.0000, 1.0000, 4.9127, 4.0000, 2.0000, 4.8675])\n",
      "\n",
      "\n",
      "\n",
      "\n",
      "{'text': \"Isaac Florentine has made some of the best western Martial Arts action movies ever produced. In particular US Seals 2, Cold Harvest, Special Forces and Undisputed 2 are all action classics. You can tell Isaac has a real passion for the genre and his films are always eventful, creative and sharp affairs, with some of the best fight sequences an action fan could hope for. In particular he has found a muse with Scott Adkins, as talented an actor and action performer as you could hope for. This is borne out with Special Forces and Undisputed 2, but unfortunately The Shepherd just doesn't live up to their abilities.<br /><br />There is no doubt that JCVD looks better here fight-wise than he has done in years, especially in the fight he has (for pretty much no reason) in a prison cell, and in the final showdown with Scott, but look in his eyes. JCVD seems to be dead inside. There's nothing in his eyes at all. It's like he just doesn't care about anything throughout the whole film. And this is the leading man.<br /><br />There are other dodgy aspects to the film, script-wise and visually, but the main problem is that you are utterly unable to empathise with the hero of the film. A genuine shame as I know we all wanted this film to be as special as it genuinely could have been. There are some good bits, mostly the action scenes themselves. This film had a terrific director and action choreographer, and an awesome opponent for JCVD to face down. This could have been the one to bring the veteran action star back up to scratch in the balls-out action movie stakes.<br /><br />Sincerely a shame that this didn't happen.\", 'label': 0}\n",
      "tensor([1.0000, 4.0000, 0.0000, 5.7038, 5.0000, 2.0000, 5.6802])\n",
      "\n",
      "\n",
      "\n",
      "\n"
     ]
    }
   ],
   "source": [
    "with torch.no_grad():\n",
    "    p_test = model(X_test)\n",
    "    p_test = np.round(p_test.numpy())\n",
    "    y_test_numpy = y_test.numpy()\n",
    "    i = 0\n",
    "    found = 0\n",
    "    while found < 2:\n",
    "        if p_test[i] != y_test_numpy[i]:\n",
    "            print(dataset['test'][i])\n",
    "            print(X_test[i])\n",
    "            print()\n",
    "            print()\n",
    "            print()\n",
    "            print()\n",
    "            found += 1\n",
    "        i += 1\n",
    "\n",
    "    test_accuracy = np.mean(p_test == y_test.numpy())"
   ]
  },
  {
   "cell_type": "markdown",
   "metadata": {},
   "source": [
    "Ces deux textes sont donc des documents pour lesquels l'évaluation de notre modèle a donné un résultat erroné."
   ]
  },
  {
   "attachments": {},
   "cell_type": "markdown",
   "metadata": {},
   "source": [
    "Le premier document comporte de nombreux mots positifs, et pratiquement aucun mot négatif. L'auteur a particulièrement aimé le film, mais avec la nuance que c'est parce qu'il est fan de Van Damme : même s'il a beaucoup apprécié, il indique que son avis est limité en tant que fan, d'où l'estimation générale négative. Le modèle a donc estimé le texte comme positif.\n",
    "\n",
    "Concernant le second texte, on observe la même mécanique : on détecte davantage de mots à connotation positive que de termes négatifs, puisque l'auteur du document indique clairement qu'il n'a pas aimé, en indiquant tout de même les points agréables du films et ceux qui auraient été bien ) améliorer."
   ]
  },
  {
   "cell_type": "code",
   "execution_count": 17,
   "outputs": [],
   "source": [],
   "metadata": {
    "collapsed": false
   }
  }
 ],
 "metadata": {
  "kernelspec": {
   "display_name": "Python 3 (ipykernel)",
   "language": "python",
   "name": "python3"
  },
  "language_info": {
   "codemirror_mode": {
    "name": "ipython",
    "version": 3
   },
   "file_extension": ".py",
   "mimetype": "text/x-python",
   "name": "python",
   "nbconvert_exporter": "python",
   "pygments_lexer": "ipython3",
   "version": "3.10.10"
  }
 },
 "nbformat": 4,
 "nbformat_minor": 1
}
